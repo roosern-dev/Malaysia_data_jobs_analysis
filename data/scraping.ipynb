{
 "cells": [
  {
   "cell_type": "markdown",
   "metadata": {},
   "source": [
    "# Scraping script for obtaining data on data related jobs in Malaysia"
   ]
  },
  {
   "cell_type": "code",
   "execution_count": 16,
   "metadata": {},
   "outputs": [],
   "source": [
    "import time\n",
    "from selenium import webdriver\n",
    "from bs4 import BeautifulSoup\n",
    "from webdriver_manager.chrome import ChromeDriverManager\n",
    "from bs4 import BeautifulSoup\n",
    "import requests\n",
    "import re\n",
    "import os\n",
    "from lxml import etree\n",
    "\n",
    "#driver = webdriver.Chrome(ChromeDriverManager().install())\n",
    "verbose_flag = True\n",
    "# htmlSource = driver.page_source"
   ]
  },
  {
   "cell_type": "code",
   "execution_count": 3,
   "metadata": {},
   "outputs": [],
   "source": [
    "data_engineer_site = r'https://www.jobstreet.com.my/en/job-search/data-engineer-jobs/'\n",
    "main_site=r\"https://www.jobstreet.com.my\"\n",
    "\n",
    "page = requests.get(data_engineer_site)\n",
    "\n",
    "soup = BeautifulSoup(page.content, 'html.parser')\n",
    "\n"
   ]
  },
  {
   "cell_type": "code",
   "execution_count": 5,
   "metadata": {},
   "outputs": [],
   "source": [
    "#find number of result pages\n",
    "results = soup.find('select', attrs={\"id\":\"pagination\"})\n",
    "options = results.find_all('option')\n",
    "\n",
    "num_result_pages = int(options[-1]['value'])"
   ]
  },
  {
   "cell_type": "code",
   "execution_count": 6,
   "metadata": {},
   "outputs": [],
   "source": [
    "jobslist = soup.find('div', attrs={'id':\"jobList\"}).find('div', attrs={'data-automation':'jobListing'})"
   ]
  },
  {
   "cell_type": "code",
   "execution_count": 7,
   "metadata": {},
   "outputs": [],
   "source": [
    "jobs = jobslist.find_all('a', attrs={'class':'_1hr6tkx5 _1hr6tkx8 _1hr6tkxb sx2jih0 sx2jihf zcydq8h', 'href': re.compile(r'^\\/en\\/job\\/')})"
   ]
  },
  {
   "cell_type": "code",
   "execution_count": 8,
   "metadata": {},
   "outputs": [],
   "source": [
    "joblink = jobs[29].get('href')"
   ]
  },
  {
   "cell_type": "code",
   "execution_count": 32,
   "metadata": {},
   "outputs": [],
   "source": [
    "job_fulllink = main_site + joblink\n",
    "#job_fulllink = r\"https://www.jobstreet.com.my/en/job/data-engineer-4834504?jobId=jobstreet-my-job-4834504&sectionRank=1&token=0~9d2b2714-12eb-4e27-b40c-24f3babd0c52&fr=SRP%20View%20In%20New%20Tab\"\n",
    "job_page = requests.get(job_fulllink)\n",
    "job_soup = BeautifulSoup(job_page.content, 'html.parser')\n"
   ]
  },
  {
   "cell_type": "code",
   "execution_count": 12,
   "metadata": {},
   "outputs": [
    {
     "data": {
      "text/plain": [
       "'https://www.jobstreet.com.my/en/job/data-engineer-data-bricks-apache-spark-4798079?jobId=jobstreet-my-job-4798079&sectionRank=30&token=0~bcc50c9c-c6ad-49e8-9f43-a8c472bfd854&fr=SRP%20Job%20Listing'"
      ]
     },
     "execution_count": 12,
     "metadata": {},
     "output_type": "execute_result"
    }
   ],
   "source": [
    "job_fulllink"
   ]
  },
  {
   "cell_type": "code",
   "execution_count": 33,
   "metadata": {},
   "outputs": [],
   "source": [
    "jobs_dom = etree.HTML(str(job_soup))"
   ]
  },
  {
   "cell_type": "code",
   "execution_count": 42,
   "metadata": {},
   "outputs": [
    {
     "name": "stdout",
     "output_type": "stream",
     "text": [
      "job:  Data Engineer (Data Bricks/Apache Spark)\n",
      "company:  TDCX\n",
      "salary range:  MYR 8,000 - MYR 9,000\n",
      "job description:  <Element div at 0x17d7939f4c0>\n"
     ]
    }
   ],
   "source": [
    "job_title = jobs_dom.xpath('//*[@id=\"contentContainer\"]/div/div[1]/div[1]/div[1]/div/div/div[1]/div/div/div[2]/div/div/div/div[1]/h1')[0].text\n",
    "company_name = jobs_dom.xpath('//*[@id=\"contentContainer\"]/div/div[1]/div[1]/div[1]/div/div/div[1]/div/div/div[2]/div/div/div/div[2]/span')[0].text\n",
    "salary_range = jobs_dom.xpath('//*[@id=\"contentContainer\"]/div/div[1]/div[1]/div[1]/div/div/div[2]/div/div/div/div[2]/span')[0].text\n",
    "job_description = etree.tostring(jobs_dom.xpath('//*[@id=\"contentContainer\"]/div/div[2]/div'))\n",
    "job_level = jobs_dom.xpath('//*[@id=\"contentContainer\"]/div/div[2]/div/div[1]/div/div[2]/div/div[2]/div/div/div[1]/div/div/div[2]/span')[0].text\n",
    "years_experience = jobs_dom.xpath('//*[@id=\"contentContainer\"]/div/div[2]/div/div[1]/div/div[2]/div/div[2]/div/div/div[3]/div/div/div[2]/span')[0].text\n",
    "qualifications = jobs_dom.xpath('//*[@id=\"contentContainer\"]/div/div[2]/div/div[1]/div/div[2]/div/div[2]/div/div/div[3]/div/div/div[2]/span')[0].text\n",
    "job_type = jobs_dom.xpath('//*[@id=\"contentContainer\"]/div/div[2]/div/div[1]/div/div[2]/div/div[2]/div/div/div[4]/div/div/div[2]/span')[0].text\n",
    "company_registration = jobs_dom.xpath('//*[@id=\"contentContainer\"]/div/div[2]/div/div[2]/div[2]/div[2]/div/div[2]/div/div/div[1]/div/div/div[2]/span')[0].text\n",
    "company_size = jobs_dom.xpath('//*[@id=\"contentContainer\"]/div/div[2]/div/div[2]/div[2]/div[2]/div/div[2]/div/div/div[1]/div/div/div[2]/span')[0].text\n",
    "industry_type = jobs_dom.xpath('//*[@id=\"contentContainer\"]/div/div[2]/div/div[2]/div[2]/div[2]/div/div[2]/div/div/div[1]/div/div/div[2]/span')[0].text\n",
    "location = jobs_dom.xpath('//*[@id=\"contentContainer\"]/div/div[1]/div[1]/div[1]/div/div/div[2]/div/div/div/div[1]/div/span')[0].text\n",
    "\n",
    "if verbose_flag:\n",
    "    print('job: ', job_title)\n",
    "    print('company: ', company_name)\n",
    "    print(\"salary range: \", salary_range)\n",
    "    print('job description: ', job_description)\n",
    "\n"
   ]
  },
  {
   "cell_type": "code",
   "execution_count": 46,
   "metadata": {},
   "outputs": [
    {
     "name": "stdout",
     "output_type": "stream",
     "text": [
      "b'<div class=\"sx2jih0 h6p8rp0 h6p8rp7 h6p8rph\"><div class=\"sx2jih0 zcydq86q zcydq86v zcydq86w\"><div class=\"sx2jih0 h6p8rp0 h6p8rp7 h6p8rph\"><div class=\"sx2jih0 zcydq86q zcydq86v zcydq86w\"><div class=\"sx2jih0 h6p8rp0 h6p8rp2\"><div class=\"sx2jih0 zcydq866\"><h4 class=\"sx2jih0 _18qlyvc0 _18qlyvch _1d0g9qk4 _18qlyvcs _18qlyvc1x\">Job Description</h4></div><div class=\"sx2jih0 zcydq866\"><div class=\"YCeva_0\" data-automation=\"jobDescription\"><span class=\"sx2jih0 zcydq84u _18qlyvc0 _18qlyvc1x _18qlyvc1 _18qlyvca\"><div class=\"sx2jih0\"><div><div>#BeMore</div><div style=\"text-align:justify\"><br/>Do you want to be part of an award-winning, premium, and fast-growing outsourcing provider? Do you want to work in a company that puts your growth and happiness on top of its priorities?</div><div style=\"text-align:justify\"><br/>We are looking for awesome additions to our growing workforce. Be home, belong, and start your #BeMore journey with TDCX today!</div><div><br/><strong>Top Reasons to work with TDCX</strong></div><ul><li>Attractive Remuneration</li><li>Comprehensive Medical Care and Insurance Coverage</li><li>Premium and Instagrammable Workspaces</li><li>Engagement and Recognition Programs</li><li>Strong Learning and Development plans for your growth and career acceleration</li><li>Easy to locate area with direct access to public transport</li><li>Positive culture for you to #BeMore at work</li><li>Enjoy flexible working arrangements</li><li>Be coached and mentored by experts in your field</li><li>Join a global company with 26 years of experience and more than 310+ industry awards</li></ul><div><strong>Job Scope</strong></div><ul><li>Understand business and technical requirements, project scope, and propose milestones efficiently with analytics and software development teams.</li><li>Build ETL codes, support testing and fix defects, and guide less experienced developers to develop and deploy high-quality, stable, and automated data warehouses.</li><li>Ensure data security and practice proper user management.</li><li>Identify opportunities of GCP and make recommendations as a subject matter expert.</li><li>Create standards for unit, functional test, and deployment automation solutions.</li><li>Traveling occasionally as and when necessary.</li><li>Any other duties and responsibilities that may be assigned to you by the management from time to time, within your category of employment in the organization and for the effective implementation, maintenance, and continual improvement of the Quality Management System of TDCX.</li></ul><div><strong>Who are we looking for?</strong></div><ul><li>Candidate must possess at least a Diploma, Advanced/Higher/Graduate Diploma, Bachelor\\'s Degree, Post Graduate Diploma, Professional Degree, Master\\'s Degree in Engineering, Computer Science, Economics, related field, or equivalent experience</li><li>Preferable with 2 years of working experience in the related field is ideal for this position.</li><li>Possesses skills and experience in GCP technologies like Compute Engine, Cloud Storage, Big Query, Dataflow, etc.</li><li>Strong understanding of big data challenges and eco-system.</li><li>Possesses knowledge of data warehouse concepts e.g. relational databases, star schema, data marts.</li><li>Demonstrates excellent time management and change management.</li><li>Excellent verbal and written communication skills in English and the language of the supporting market.</li></ul><div style=\"text-align:justify\"><strong>Who is TDCX?</strong><br/>We serve some of the world&#8217;s best brands from our centers of excellence in Singapore, Malaysia, Thailand, Philippines, Hong Kong, Mainland China, South Korea, Japan, India, Romania, Spain, and Colombia We specialize in perfecting our client\\'s customer experience and elevating their sales. We are guided by a talent philosophy &#8212; selecting and employing the best professionals to make the outsourcing industry better for our people and our clients. Our company has won over 310+ industry awards for delivering value-driven by technology and continuously innovating our customer-facing brand solutions. Thanks to our premium workspaces, above industry average compensation packages, career opportunities, and long list of perks, we were recently awarded as one of the best companies to work for in Asia.</div></div></div></span></div></div></div></div><div class=\"sx2jih0 zcydq86q zcydq86v zcydq86w\"><div class=\"sx2jih0 h6p8rp0 h6p8rp2\"><div class=\"sx2jih0 zcydq866\"><h4 class=\"sx2jih0 _18qlyvc0 _18qlyvch _1d0g9qk4 _18qlyvcs _18qlyvc1x\">Additional Information</h4></div><div class=\"sx2jih0 zcydq866\"><div class=\"sx2jih0 h6p8rp0 h6p8rp7\"><div class=\"sx2jih0 zcydq856 zcydq8fe lm2olz6\"><div class=\"sx2jih0 zcydq8r _1tqfum90 _1tqfum97\"><div class=\"sx2jih0 zcydq8n zcydq86q zcydq89q\"><div class=\"sx2jih0 h6p8rp0 h6p8rp5\"><div class=\"sx2jih0 zcydq86i\"><span class=\"sx2jih0 zcydq84u _18qlyvc0 _18qlyvc1x _18qlyvc3 _1d0g9qk4 _18qlyvcb\">Career Level</span></div><div class=\"sx2jih0 zcydq86i\"><span class=\"sx2jih0 zcydq84u _18qlyvc0 _18qlyvc1x _18qlyvc1 _1d0g9qk4 _18qlyvcb\">Senior Executive</span></div></div></div></div><div class=\"sx2jih0 zcydq8r _1tqfum90 _1tqfum97\"><div class=\"sx2jih0 zcydq8n zcydq86q zcydq89q\"><div class=\"sx2jih0 h6p8rp0 h6p8rp5\"><div class=\"sx2jih0 zcydq86i\"><span class=\"sx2jih0 zcydq84u _18qlyvc0 _18qlyvc1x _18qlyvc3 _1d0g9qk4 _18qlyvcb\">Qualification</span></div><div class=\"sx2jih0 zcydq86i\"><span class=\"sx2jih0 zcydq84u _18qlyvc0 _18qlyvc1x _18qlyvc1 _1d0g9qk4 _18qlyvcb\">Bachelor\\'s Degree, Post Graduate Diploma, Professional Degree</span></div></div></div></div><div class=\"sx2jih0 zcydq8r _1tqfum90 _1tqfum97\"><div class=\"sx2jih0 zcydq8n zcydq86q zcydq89q\"><div class=\"sx2jih0 h6p8rp0 h6p8rp5\"><div class=\"sx2jih0 zcydq86i\"><span class=\"sx2jih0 zcydq84u _18qlyvc0 _18qlyvc1x _18qlyvc3 _1d0g9qk4 _18qlyvcb\">Years of Experience</span></div><div class=\"sx2jih0 zcydq86i\"><span class=\"sx2jih0 zcydq84u _18qlyvc0 _18qlyvc1x _18qlyvc1 _1d0g9qk4 _18qlyvcb\">3 years</span></div></div></div></div><div class=\"sx2jih0 zcydq8r _1tqfum90 _1tqfum97\"><div class=\"sx2jih0 zcydq8n zcydq86q zcydq89q\"><div class=\"sx2jih0 h6p8rp0 h6p8rp5\"><div class=\"sx2jih0 zcydq86i\"><span class=\"sx2jih0 zcydq84u _18qlyvc0 _18qlyvc1x _18qlyvc3 _1d0g9qk4 _18qlyvcb\">Job Type</span></div><div class=\"sx2jih0 zcydq86i\"><span class=\"sx2jih0 zcydq84u _18qlyvc0 _18qlyvc1x _18qlyvc1 _1d0g9qk4 _18qlyvcb\">Full-Time</span></div></div></div></div><div class=\"sx2jih0 zcydq8r _1tqfum90 _1tqfum97\"><div class=\"sx2jih0 zcydq8n zcydq86q zcydq89q\"><div class=\"sx2jih0 h6p8rp0 h6p8rp5\"><div class=\"sx2jih0 zcydq86i\"><span class=\"sx2jih0 zcydq84u _18qlyvc0 _18qlyvc1x _18qlyvc3 _1d0g9qk4 _18qlyvcb\">Job Specializations</span></div><div class=\"sx2jih0 zcydq86i\"><span class=\"sx2jih0 zcydq84u _18qlyvc0 _18qlyvc1x _18qlyvc1 _1d0g9qk4 _18qlyvcb\"><a class=\"_1hr6tkx5 _1hr6tkx8 _1hr6tkxb sx2jih0 sx2jihf zcydq8h\" href=\"#\"/><a href=\"/en/job-search/computer-information-technology-jobs/\" style=\"color:#4964e9;text-decoration:unset\" title=\"Limit results to Computer/Information Technology\">Computer/Information Technology</a>, <a class=\"_1hr6tkx5 _1hr6tkx8 _1hr6tkxb sx2jih0 sx2jihf zcydq8h\" href=\"#\"/><a href=\"/en/job-search/computer-software-it-jobs/\" style=\"color:#4964e9;text-decoration:unset\" title=\"Limit results to IT-Software\">IT-Software</a></span></div></div></div></div></div></div></div></div></div></div></div><div class=\"sx2jih0 zcydq86q zcydq86v zcydq86w\"><div class=\"sx2jih0 zcydq8p zcydq87q zcydq87v zcydq87w zcydq84u\"><div class=\"sx2jih0 zcydq85a\"><div class=\"sx2jih0 zcydq85e zcydq8p _1xl60vh0 _1xl60vh3 _1xl60vh5 _1xl60vh8\"/></div></div><div class=\"sx2jih0 h6p8rp0 h6p8rp7 h6p8rph\"><div class=\"sx2jih0 zcydq86q zcydq86v zcydq86w\"><div class=\"sx2jih0 h6p8rp0 h6p8rp2\"><div class=\"sx2jih0 zcydq866\"><h4 class=\"sx2jih0 _18qlyvc0 _18qlyvch _1d0g9qk4 _18qlyvcs _18qlyvc1x\">Company Overview</h4></div><div class=\"sx2jih0 zcydq866\"><div class=\"YCeva_0\"><span class=\"sx2jih0 zcydq84u _18qlyvc0 _18qlyvc1x _18qlyvc1 _18qlyvca\"><div class=\"sx2jih0\"><div style=\"text-align:justify\">\\n<div>\\n\\t\\t#BeMore</div>\\n<div>\\n\\t\\tDo you aspire a rewarding career that lets you do more and achieve more? Unleash your full potential at work with TDCX, an award-winning and fast-growing BPO company.</div>\\n<div>\\n\\t\\tWork with the world&#8217;s most loved brands and be with awesome, diverse people. Be home, belong, and start your journey to #BeMore!</div>\\n<div>\\n\\t\\tTop reasons to work here:</div>\\n<div>\\n<br/>\\n\\t\\t&#8226; Attractive remuneration<br/>\\n\\t\\t&#8226; Great perks and performance incentives&#160;<br/>\\n\\t\\t&#8226; Comprehensive medical and insurance coverage<br/>\\n\\t\\t&#8226; Premium workspaces<br/>\\n\\t\\t&#8226; Engaging activities and recognition programs<br/>\\n\\t\\t&#8226; Strong learning and development plans for your career growth<br/>\\n\\t\\t&#8226; Positive culture for you to #BeMore at work<br/>\\n\\t\\t&#8226; Easy to locate area with direct access to public transport<br/>\\n\\t\\t&#8226; Flexible working arrangements<br/>\\n\\t\\t&#8226; Be coached and mentored by experts in your field<br/>\\n\\t\\t&#8226; Join a global company with 26 years of experience and more than 310 industry awards<br/>\\n\\t\\t&#160;</div>\\n</div>\\n<div style=\"text-align:justify\">\\n\\tWho is TDCX?</div>\\n<div style=\"text-align:justify\">\\n<div>\\n<div>\\n\\t\\t\\tWe serve some of the world&#8217;s best brands from our centres of excellence in Singapore, Malaysia, Thailand, Philippines, Hong Kong, Mainland China, South Korea, Japan, India, Romania, Spain, and Colombia. We specialize in perfecting our clients&#8217; customer experience and elevating their sales.</div>\\n<div>\\n\\t\\t\\tWe are guided by a talent philosophy - selecting and employing the best professionals to make the outsource industry better for our people and our clients.</div>\\n\\t\\t\\n\\t\\tOur company has won over 310 industry awards for delivering value driven by technology and continuously innovating our customer-facing brand solutions. Thanks to our premium workspaces, above industry average compensation packages, career opportunities, and long list of perks, we were recently awarded as one of the best companies to work for in Asia<br/>\\n\\t\\t&#160;</div>\\n</div></div></span></div></div></div></div><div class=\"sx2jih0 zcydq86q zcydq86v zcydq86w\"><div class=\"sx2jih0 h6p8rp0 h6p8rp2\"><div class=\"sx2jih0 zcydq866\"><h4 class=\"sx2jih0 _18qlyvc0 _18qlyvch _1d0g9qk4 _18qlyvcs _18qlyvc1x\">Additional Company Information</h4></div><div class=\"sx2jih0 zcydq866\"><div class=\"sx2jih0 h6p8rp0 h6p8rp7\"><div class=\"sx2jih0 zcydq856 zcydq8fe lm2olz6\"><div class=\"sx2jih0 zcydq8r _1tqfum90 _1tqfum97\"><div class=\"sx2jih0 zcydq8n zcydq86q zcydq89q\"><div class=\"sx2jih0 h6p8rp0 h6p8rp5\"><div class=\"sx2jih0 zcydq86i\"><span class=\"sx2jih0 zcydq84u _18qlyvc0 _18qlyvc1x _18qlyvc3 _1d0g9qk4 _18qlyvcb\">Registration No.</span></div><div class=\"sx2jih0 zcydq86i\"><span class=\"sx2jih0 zcydq84u _18qlyvc0 _18qlyvc1x _18qlyvc1 _1d0g9qk4 _18qlyvcb\">555268-P</span></div></div></div></div><div class=\"sx2jih0 zcydq8r _1tqfum90 _1tqfum97\"><div class=\"sx2jih0 zcydq8n zcydq86q zcydq89q\"><div class=\"sx2jih0 h6p8rp0 h6p8rp5\"><div class=\"sx2jih0 zcydq86i\"><span class=\"sx2jih0 zcydq84u _18qlyvc0 _18qlyvc1x _18qlyvc3 _1d0g9qk4 _18qlyvcb\">Company Size</span></div><div class=\"sx2jih0 zcydq86i\"><span class=\"sx2jih0 zcydq84u _18qlyvc0 _18qlyvc1x _18qlyvc1 _1d0g9qk4 _18qlyvcb\">2001 - 5000 Employees</span></div></div></div></div><div class=\"sx2jih0 zcydq8r _1tqfum90 _1tqfum97\"><div class=\"sx2jih0 zcydq8n zcydq86q zcydq89q\"><div class=\"sx2jih0 h6p8rp0 h6p8rp5\"><div class=\"sx2jih0 zcydq86i\"><span class=\"sx2jih0 zcydq84u _18qlyvc0 _18qlyvc1x _18qlyvc3 _1d0g9qk4 _18qlyvcb\">Average Processing Time</span></div><div class=\"sx2jih0 zcydq86i\"><span class=\"sx2jih0 zcydq84u _18qlyvc0 _18qlyvc1x _18qlyvc1 _1d0g9qk4 _18qlyvcb\">15 days</span></div></div></div></div><div class=\"sx2jih0 zcydq8r _1tqfum90 _1tqfum97\"><div class=\"sx2jih0 zcydq8n zcydq86q zcydq89q\"><div class=\"sx2jih0 h6p8rp0 h6p8rp5\"><div class=\"sx2jih0 zcydq86i\"><span class=\"sx2jih0 zcydq84u _18qlyvc0 _18qlyvc1x _18qlyvc3 _1d0g9qk4 _18qlyvcb\">Industry</span></div><div class=\"sx2jih0 zcydq86i\"><span class=\"sx2jih0 zcydq84u _18qlyvc0 _18qlyvc1x _18qlyvc1 _1d0g9qk4 _18qlyvcb\">Call Center/IT-Enabled Services/BPO</span></div></div></div></div><div class=\"sx2jih0 zcydq8r _1tqfum90 _1tqfum97\"><div class=\"sx2jih0 zcydq8n zcydq86q zcydq89q\"><div class=\"sx2jih0 h6p8rp0 h6p8rp5\"><div class=\"sx2jih0 zcydq86i\"><span class=\"sx2jih0 zcydq84u _18qlyvc0 _18qlyvc1x _18qlyvc3 _1d0g9qk4 _18qlyvcb\">Benefits &amp; Others</span></div><div class=\"sx2jih0 zcydq86i\"><span class=\"sx2jih0 zcydq84u _18qlyvc0 _18qlyvc1x _18qlyvc1 _1d0g9qk4 _18qlyvcb\">Dental<!-- -->, <!-- -->Miscellaneous allowance<!-- -->, <!-- -->Medical<!-- -->, <!-- -->Sports (e.g. Gym)<!-- -->, <!-- -->Vision<!-- -->, <!-- -->Incentive, Bonus and Commission Plan, Life-long Learning and Skills Development<!-- -->, <!-- -->Monday &#8211; Thursday: Smart Casual, Friday: Sport Attire<!-- -->, <!-- -->Support: 9:00am &#8211; 6:00pm (Monday &#8211; Friday) Operations: Shift based on markets</span></div></div></div></div><div class=\"sx2jih0 zcydq8r _1tqfum90 _1tqfum97\"><div class=\"sx2jih0 zcydq8n zcydq86q zcydq89q\"><div class=\"sx2jih0 h6p8rp0 h6p8rp5\"><div class=\"sx2jih0 zcydq86i\"><span class=\"sx2jih0 zcydq84u _18qlyvc0 _18qlyvc1x _18qlyvc3 _1d0g9qk4 _18qlyvcb\">Specific Location</span></div><div class=\"sx2jih0 zcydq86i\"><span class=\"sx2jih0 zcydq84u _18qlyvc0 _18qlyvc1x _18qlyvc1 _1d0g9qk4 _18qlyvcb\">KL Sentral</span></div></div></div></div></div></div></div></div></div></div></div></div>'\n"
     ]
    }
   ],
   "source": [
    "print(etree.tostring(job_description))"
   ]
  },
  {
   "cell_type": "code",
   "execution_count": 43,
   "metadata": {},
   "outputs": [
    {
     "name": "stdout",
     "output_type": "stream",
     "text": [
      "Big Data & Analytics Developer\n",
      "UCSI University\n",
      "[<span class=\"sx2jih0 zcydq84u _18qlyvc0 _18qlyvc1x _18qlyvc1 _18qlyvca\">Kuala Lumpur</span>, <span class=\"sx2jih0 zcydq84u _18qlyvc0 _18qlyvc1x _18qlyvc1 _18qlyvca\">MYR 5,000 - MYR 6,500</span>, <span class=\"sx2jih0 zcydq84u _18qlyvc0 _18qlyvc1x _18qlyvc1 _18qlyvca\">Posted on 11-Feb-22</span>]\n"
     ]
    }
   ],
   "source": [
    "job_title = employer_details.find('h1', attrs={'class':'sx2jih0 _18qlyvc0 _18qlyvch _1d0g9qk4 _18qlyvcp _18qlyvc1x'}).text\n",
    "print(job_title)\n",
    "company = employer_details.find('span', attrs={'class':'sx2jih0 zcydq84u _18qlyvc0 _18qlyvc1x _18qlyvc2 _1d0g9qk4 _18qlyvcb'}).text\n",
    "print(company)\n",
    "salary_range = employer_details.findAll('span', attrs={'class':'sx2jih0 zcydq84u _18qlyvc0 _18qlyvc1x _18qlyvc1 _18qlyvca'}).\n",
    "print(salary_range)"
   ]
  },
  {
   "cell_type": "markdown",
   "metadata": {},
   "source": [
    "# Definition of scraping functions"
   ]
  },
  {
   "cell_type": "code",
   "execution_count": null,
   "metadata": {},
   "outputs": [],
   "source": [
    "def search(keyword:str) -> list:\n",
    "    '''\n",
    "        search jobstreet for keyword, returns results as a list of job results\n",
    "    '''\n",
    "    search_term = keyword.replace(' ', '-')\n",
    "    root_link = r'https://www.jobstreet.com.my/en/job-search/'\n",
    "    search_link = search_link + search_term + '-jobs/'\n",
    "    page = requests.get(search_link)\n",
    "    soup = BeautifulSoup(page.content, 'html.parser')\n",
    "    results = soup.find('select', attrs={\"id\":\"pagination\"})\n",
    "    options = results.find_all('option')\n",
    "    num_result_pages = int(options[-1]['value'])\n",
    "\n",
    "def get_job_links(page_link:str) -> list:\n",
    "    job\n",
    "    page = requests.get(page_link)\n",
    "    soup = BeautifulSoup(page.content, 'html.parser')\n",
    "    jobs_list = soup.find('div', attrs={'id':\"jobList\"}).find('div', attrs={'data-automation':'jobListing'})\n",
    "    for job in jobs_list:\n",
    "        job_link = job.get('href')\n",
    "    \n",
    "    \n"
   ]
  }
 ],
 "metadata": {
  "interpreter": {
   "hash": "cadcdcb536bf306a94042e6d3e2806f549212ffab4cd86c3d91066de65a7cf2b"
  },
  "kernelspec": {
   "display_name": "Python 3.9.7 ('forwardSchool')",
   "language": "python",
   "name": "python3"
  },
  "language_info": {
   "codemirror_mode": {
    "name": "ipython",
    "version": 3
   },
   "file_extension": ".py",
   "mimetype": "text/x-python",
   "name": "python",
   "nbconvert_exporter": "python",
   "pygments_lexer": "ipython3",
   "version": "3.9.7"
  },
  "orig_nbformat": 4
 },
 "nbformat": 4,
 "nbformat_minor": 2
}
