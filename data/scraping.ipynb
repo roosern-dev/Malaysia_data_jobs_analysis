{
 "cells": [
  {
   "cell_type": "markdown",
   "metadata": {},
   "source": [
    "# Scraping script for obtaining data on data related jobs in Malaysia"
   ]
  },
  {
   "cell_type": "code",
   "execution_count": 49,
   "metadata": {},
   "outputs": [],
   "source": [
    "import time\n",
    "from selenium import webdriver\n",
    "from bs4 import BeautifulSoup\n",
    "from webdriver_manager.chrome import ChromeDriverManager\n",
    "from bs4 import BeautifulSoup\n",
    "import requests\n",
    "import re\n",
    "import os\n",
    "from lxml import etree\n",
    "import lxml.html, lxml.html.clean\n",
    "from urllib.parse import urlparse\n",
    "from urllib.parse import parse_qs\n",
    "import pandas as pd\n",
    "\n",
    "#driver = webdriver.Chrome(ChromeDriverManager().install())\n",
    "verbose_flag = True\n",
    "# htmlSource = driver.page_source"
   ]
  },
  {
   "cell_type": "code",
   "execution_count": 8,
   "metadata": {},
   "outputs": [],
   "source": [
    "data_engineer_site = r'https://www.jobstreet.com.my/en/job-search/data-engineer-jobs/'\n",
    "main_site=r\"https://www.jobstreet.com.my\"\n",
    "\n",
    "page = requests.get(data_engineer_site)\n",
    "\n",
    "soup = BeautifulSoup(page.content, 'html.parser')\n",
    "\n"
   ]
  },
  {
   "cell_type": "code",
   "execution_count": 9,
   "metadata": {},
   "outputs": [],
   "source": [
    "#find number of result pages\n",
    "results = soup.find('select', attrs={\"id\":\"pagination\"})\n",
    "options = results.find_all('option')\n",
    "\n",
    "num_result_pages = int(options[-1]['value'])"
   ]
  },
  {
   "cell_type": "code",
   "execution_count": 10,
   "metadata": {},
   "outputs": [],
   "source": [
    "jobslist = soup.find('div', attrs={'id':\"jobList\"}).find('div', attrs={'data-automation':'jobListing'})"
   ]
  },
  {
   "cell_type": "code",
   "execution_count": 11,
   "metadata": {},
   "outputs": [],
   "source": [
    "jobs = jobslist.find_all('a', attrs={'class':'_1hr6tkx5 _1hr6tkx8 _1hr6tkxb sx2jih0 sx2jihf zcydq8h', 'href': re.compile(r'^\\/en\\/job\\/')})"
   ]
  },
  {
   "cell_type": "code",
   "execution_count": 12,
   "metadata": {},
   "outputs": [],
   "source": [
    "joblink = jobs[29].get('href')"
   ]
  },
  {
   "cell_type": "code",
   "execution_count": 13,
   "metadata": {},
   "outputs": [],
   "source": [
    "job_fulllink = main_site + joblink\n",
    "#job_fulllink = r\"https://www.jobstreet.com.my/en/job/data-engineer-4834504?jobId=jobstreet-my-job-4834504&sectionRank=1&token=0~9d2b2714-12eb-4e27-b40c-24f3babd0c52&fr=SRP%20View%20In%20New%20Tab\"\n",
    "job_page = requests.get(job_fulllink)\n",
    "\n",
    "job_soup = BeautifulSoup(job_page.content, 'html.parser')\n"
   ]
  },
  {
   "cell_type": "code",
   "execution_count": 14,
   "metadata": {},
   "outputs": [
    {
     "name": "stdout",
     "output_type": "stream",
     "text": [
      "['jobstreet-my-job-4846899']\n"
     ]
    }
   ],
   "source": [
    "parsed_url = urlparse(job_fulllink)\n",
    "captured_value = parse_qs(parsed_url.query)\n",
    "print(captured_value['jobId'])"
   ]
  },
  {
   "cell_type": "code",
   "execution_count": 15,
   "metadata": {},
   "outputs": [],
   "source": [
    "jobs_dom = etree.HTML(str(job_soup))"
   ]
  },
  {
   "cell_type": "code",
   "execution_count": 16,
   "metadata": {},
   "outputs": [
    {
     "name": "stdout",
     "output_type": "stream",
     "text": [
      "\n",
      "job:  Executive, HRIS (Developer/Data Scientist)\n",
      "company:  Top Glove Corporation Berhad\n",
      "salary range:  Posted on 25-Feb-22\n",
      "job description:  Top Glove is embarking into a world of possibilities with a clear purpose to inspire our employees. We encourage consistent application of innovation and creativity, whether you are based in Malaysia or overseas, we find ways to break through the ordinary at the same time preserving our Corporate Value (R.I.V.E.R.), overcoming challenges and being proactive are our integral fundamentals in UNITING each and every Top Glovers. This is YOUR chance! As we are embarking into a journey to be listed in Global Fortune 500 employer in year 2030, we need more talents like you to join us.Shape YOUR future with Top Glove, The World’s Largest Manufacturer of Gloves!Your mission:1) Manage the rollout and implementation of HR modules.2) Responsible on the daily operation of HRIS.3) Provide support for HRIS including, researching and resolving HRIS problems, unexpected results or process flaws.4) Recommend solutions or alternate methods to meet Business requirements and optimize system investments.5) Advice management in organizational policy matters related to the HRIS.6) Analyze the report for the need for system enhancement or customization.7) Support the implementation/maintenance of various modules within system.8) Drives change management strategies to support improvement in term of process.9) Shall take additional responsibility as instructed by the immediate superior.What we are looking for: 1) Degree in Human Resources/ Business Administration/ Management or other equivalent from reputable universities.2) Good command of English (spoken and written)3) Result oriented, strong follow up and good negotiation skills.4) Strong analytical skill, self-motivated and able to motivate others.5) Success Factors Certifications preferred\n"
     ]
    }
   ],
   "source": [
    "job_title = jobs_dom.xpath('//*[@id=\"contentContainer\"]/div/div[1]/div[1]/div[1]/div/div/div[1]/div/div/div[2]/div/div/div/div[1]/h1')[0].text\n",
    "company_name = jobs_dom.xpath('//*[@id=\"contentContainer\"]/div/div[1]/div[1]/div[1]/div/div/div[1]/div/div/div[2]/div/div/div/div[2]/span')[0].text\n",
    "salary_range = jobs_dom.xpath('//*[@id=\"contentContainer\"]/div/div[1]/div[1]/div[1]/div/div/div[2]/div/div/div/div[2]/span')[0].text\n",
    "\n",
    "cleaner = lxml.html.clean.Cleaner(allow_tags=[''])\n",
    "cleaned = cleaner.clean_html(etree.tostring(jobs_dom.xpath('//*[@id=\"contentContainer\"]/div/div[2]/div/div[1]/div/div[1]/div/div[2]/div/span/div')[0]))\n",
    "print()\n",
    "job_description = cleaned.decode(\"utf-8\").replace('<div>', '').replace('</div>','')\n",
    "#job_description = etree.tostring(jobs_dom.xpath('//*[@id=\"contentContainer\"]/div/div[2]/div/div[1]/div/div[2]/div/div[2]/div/span/div')[0])\n",
    "# job_level = jobs_dom.xpath('//*[@id=\"contentContainer\"]/div/div[2]/div/div[1]/div/div[2]/div/div[2]/div/div/div[1]/div/div/div[2]/span')[0].text\n",
    "# years_experience = jobs_dom.xpath('//*[@id=\"contentContainer\"]/div/div[2]/div/div[1]/div/div[2]/div/div[2]/div/div/div[3]/div/div/div[2]/span')[0].text\n",
    "# qualifications = jobs_dom.xpath('//*[@id=\"contentContainer\"]/div/div[2]/div/div[1]/div/div[2]/div/div[2]/div/div/div[3]/div/div/div[2]/span')[0].text\n",
    "# job_type = jobs_dom.xpath('//*[@id=\"contentContainer\"]/div/div[2]/div/div[1]/div/div[2]/div/div[2]/div/div/div[4]/div/div/div[2]/span')[0].text\n",
    "# company_registration = jobs_dom.xpath('//*[@id=\"contentContainer\"]/div/div[2]/div/div[2]/div[2]/div[2]/div/div[2]/div/div/div[1]/div/div/div[2]/span')[0].text\n",
    "# company_size = jobs_dom.xpath('//*[@id=\"contentContainer\"]/div/div[2]/div/div[2]/div[2]/div[2]/div/div[2]/div/div/div[1]/div/div/div[2]/span')[0].text\n",
    "# industry_type = jobs_dom.xpath('//*[@id=\"contentContainer\"]/div/div[2]/div/div[2]/div[2]/div[2]/div/div[2]/div/div/div[1]/div/div/div[2]/span')[0].text\n",
    "# location = jobs_dom.xpath('//*[@id=\"contentContainer\"]/div/div[1]/div[1]/div[1]/div/div/div[2]/div/div/div/div[1]/div/span')[0].text\n",
    "\n",
    "if verbose_flag:\n",
    "    print('job: ', job_title)\n",
    "    print('company: ', company_name)\n",
    "    print(\"salary range: \", salary_range)\n",
    "    print('job description: ', job_description)\n",
    "\n"
   ]
  },
  {
   "cell_type": "code",
   "execution_count": 17,
   "metadata": {},
   "outputs": [],
   "source": [
    "for job in jobs_dom.xpath('//*[@id=\"contentContainer\"]/div/div[2]/div/div[1]/div/div[1]/div/div[2]/div/span/div/div'):\n",
    "    print(etree.tostring(job))"
   ]
  },
  {
   "cell_type": "code",
   "execution_count": 18,
   "metadata": {},
   "outputs": [
    {
     "ename": "IndexError",
     "evalue": "list index out of range",
     "output_type": "error",
     "traceback": [
      "\u001b[1;31m---------------------------------------------------------------------------\u001b[0m",
      "\u001b[1;31mIndexError\u001b[0m                                Traceback (most recent call last)",
      "\u001b[1;32m~\\AppData\\Local\\Temp/ipykernel_15736/553110362.py\u001b[0m in \u001b[0;36m<module>\u001b[1;34m\u001b[0m\n\u001b[0;32m      1\u001b[0m \u001b[0mcleaner\u001b[0m \u001b[1;33m=\u001b[0m \u001b[0mlxml\u001b[0m\u001b[1;33m.\u001b[0m\u001b[0mhtml\u001b[0m\u001b[1;33m.\u001b[0m\u001b[0mclean\u001b[0m\u001b[1;33m.\u001b[0m\u001b[0mCleaner\u001b[0m\u001b[1;33m(\u001b[0m\u001b[0mallow_tags\u001b[0m\u001b[1;33m=\u001b[0m\u001b[1;33m[\u001b[0m\u001b[1;34m''\u001b[0m\u001b[1;33m]\u001b[0m\u001b[1;33m)\u001b[0m\u001b[1;33m\u001b[0m\u001b[1;33m\u001b[0m\u001b[0m\n\u001b[1;32m----> 2\u001b[1;33m \u001b[0mcleaned\u001b[0m \u001b[1;33m=\u001b[0m \u001b[0mcleaner\u001b[0m\u001b[1;33m.\u001b[0m\u001b[0mclean_html\u001b[0m\u001b[1;33m(\u001b[0m\u001b[0metree\u001b[0m\u001b[1;33m.\u001b[0m\u001b[0mtostring\u001b[0m\u001b[1;33m(\u001b[0m\u001b[0mjobs_dom\u001b[0m\u001b[1;33m.\u001b[0m\u001b[0mxpath\u001b[0m\u001b[1;33m(\u001b[0m\u001b[1;34m'//*[@id=\"contentContainer\"]/div/div[2]/div/div[1]/div/div[1]/div/div[2]/div/span/div/div'\u001b[0m\u001b[1;33m)\u001b[0m\u001b[1;33m[\u001b[0m\u001b[1;36m0\u001b[0m\u001b[1;33m]\u001b[0m\u001b[1;33m)\u001b[0m\u001b[1;33m)\u001b[0m\u001b[1;33m\u001b[0m\u001b[1;33m\u001b[0m\u001b[0m\n\u001b[0m\u001b[0;32m      3\u001b[0m \u001b[0mprint\u001b[0m\u001b[1;33m(\u001b[0m\u001b[0mcleaned\u001b[0m\u001b[1;33m.\u001b[0m\u001b[0mdecode\u001b[0m\u001b[1;33m(\u001b[0m\u001b[1;34m\"utf-8\"\u001b[0m\u001b[1;33m)\u001b[0m\u001b[1;33m.\u001b[0m\u001b[0mreplace\u001b[0m\u001b[1;33m(\u001b[0m\u001b[1;34m'<div>'\u001b[0m\u001b[1;33m,\u001b[0m \u001b[1;34m''\u001b[0m\u001b[1;33m)\u001b[0m\u001b[1;33m.\u001b[0m\u001b[0mreplace\u001b[0m\u001b[1;33m(\u001b[0m\u001b[1;34m'</div>'\u001b[0m\u001b[1;33m,\u001b[0m\u001b[1;34m''\u001b[0m\u001b[1;33m)\u001b[0m\u001b[1;33m)\u001b[0m\u001b[1;33m\u001b[0m\u001b[1;33m\u001b[0m\u001b[0m\n",
      "\u001b[1;31mIndexError\u001b[0m: list index out of range"
     ]
    }
   ],
   "source": [
    "cleaner = lxml.html.clean.Cleaner(allow_tags=[''])\n",
    "cleaned = cleaner.clean_html(etree.tostring(jobs_dom.xpath('//*[@id=\"contentContainer\"]/div/div[2]/div/div[1]/div/div[1]/div/div[2]/div/span/div/div')[0]))\n",
    "print(cleaned.decode(\"utf-8\").replace('<div>', '').replace('</div>',''))"
   ]
  },
  {
   "cell_type": "code",
   "execution_count": null,
   "metadata": {},
   "outputs": [
    {
     "name": "stdout",
     "output_type": "stream",
     "text": [
      "b'<div class=\"sx2jih0 h6p8rp0 h6p8rp7 h6p8rph\"><div class=\"sx2jih0 zcydq86q zcydq86v zcydq86w\"><div class=\"sx2jih0 h6p8rp0 h6p8rp7 h6p8rph\"><div class=\"sx2jih0 zcydq86q zcydq86v zcydq86w\"><div class=\"sx2jih0 h6p8rp0 h6p8rp2\"><div class=\"sx2jih0 zcydq866\"><h4 class=\"sx2jih0 _18qlyvc0 _18qlyvch _1d0g9qk4 _18qlyvcs _18qlyvc1x\">Job Description</h4></div><div class=\"sx2jih0 zcydq866\"><div class=\"YCeva_0\" data-automation=\"jobDescription\"><span class=\"sx2jih0 zcydq84u _18qlyvc0 _18qlyvc1x _18qlyvc1 _18qlyvca\"><div class=\"sx2jih0\"><div><div>#BeMore</div><div style=\"text-align:justify\"><br/>Do you want to be part of an award-winning, premium, and fast-growing outsourcing provider? Do you want to work in a company that puts your growth and happiness on top of its priorities?</div><div style=\"text-align:justify\"><br/>We are looking for awesome additions to our growing workforce. Be home, belong, and start your #BeMore journey with TDCX today!</div><div><br/><strong>Top Reasons to work with TDCX</strong></div><ul><li>Attractive Remuneration</li><li>Comprehensive Medical Care and Insurance Coverage</li><li>Premium and Instagrammable Workspaces</li><li>Engagement and Recognition Programs</li><li>Strong Learning and Development plans for your growth and career acceleration</li><li>Easy to locate area with direct access to public transport</li><li>Positive culture for you to #BeMore at work</li><li>Enjoy flexible working arrangements</li><li>Be coached and mentored by experts in your field</li><li>Join a global company with 26 years of experience and more than 310+ industry awards</li></ul><div><strong>Job Scope</strong></div><ul><li>Understand business and technical requirements, project scope, and propose milestones efficiently with analytics and software development teams.</li><li>Build ETL codes, support testing and fix defects, and guide less experienced developers to develop and deploy high-quality, stable, and automated data warehouses.</li><li>Ensure data security and practice proper user management.</li><li>Identify opportunities of GCP and make recommendations as a subject matter expert.</li><li>Create standards for unit, functional test, and deployment automation solutions.</li><li>Traveling occasionally as and when necessary.</li><li>Any other duties and responsibilities that may be assigned to you by the management from time to time, within your category of employment in the organization and for the effective implementation, maintenance, and continual improvement of the Quality Management System of TDCX.</li></ul><div><strong>Who are we looking for?</strong></div><ul><li>Candidate must possess at least a Diploma, Advanced/Higher/Graduate Diploma, Bachelor\\'s Degree, Post Graduate Diploma, Professional Degree, Master\\'s Degree in Engineering, Computer Science, Economics, related field, or equivalent experience</li><li>Preferable with 2 years of working experience in the related field is ideal for this position.</li><li>Possesses skills and experience in GCP technologies like Compute Engine, Cloud Storage, Big Query, Dataflow, etc.</li><li>Strong understanding of big data challenges and eco-system.</li><li>Possesses knowledge of data warehouse concepts e.g. relational databases, star schema, data marts.</li><li>Demonstrates excellent time management and change management.</li><li>Excellent verbal and written communication skills in English and the language of the supporting market.</li></ul><div style=\"text-align:justify\"><strong>Who is TDCX?</strong><br/>We serve some of the world&#8217;s best brands from our centers of excellence in Singapore, Malaysia, Thailand, Philippines, Hong Kong, Mainland China, South Korea, Japan, India, Romania, Spain, and Colombia We specialize in perfecting our client\\'s customer experience and elevating their sales. We are guided by a talent philosophy &#8212; selecting and employing the best professionals to make the outsourcing industry better for our people and our clients. Our company has won over 310+ industry awards for delivering value-driven by technology and continuously innovating our customer-facing brand solutions. Thanks to our premium workspaces, above industry average compensation packages, career opportunities, and long list of perks, we were recently awarded as one of the best companies to work for in Asia.</div></div></div></span></div></div></div></div><div class=\"sx2jih0 zcydq86q zcydq86v zcydq86w\"><div class=\"sx2jih0 h6p8rp0 h6p8rp2\"><div class=\"sx2jih0 zcydq866\"><h4 class=\"sx2jih0 _18qlyvc0 _18qlyvch _1d0g9qk4 _18qlyvcs _18qlyvc1x\">Additional Information</h4></div><div class=\"sx2jih0 zcydq866\"><div class=\"sx2jih0 h6p8rp0 h6p8rp7\"><div class=\"sx2jih0 zcydq856 zcydq8fe lm2olz6\"><div class=\"sx2jih0 zcydq8r _1tqfum90 _1tqfum97\"><div class=\"sx2jih0 zcydq8n zcydq86q zcydq89q\"><div class=\"sx2jih0 h6p8rp0 h6p8rp5\"><div class=\"sx2jih0 zcydq86i\"><span class=\"sx2jih0 zcydq84u _18qlyvc0 _18qlyvc1x _18qlyvc3 _1d0g9qk4 _18qlyvcb\">Career Level</span></div><div class=\"sx2jih0 zcydq86i\"><span class=\"sx2jih0 zcydq84u _18qlyvc0 _18qlyvc1x _18qlyvc1 _1d0g9qk4 _18qlyvcb\">Senior Executive</span></div></div></div></div><div class=\"sx2jih0 zcydq8r _1tqfum90 _1tqfum97\"><div class=\"sx2jih0 zcydq8n zcydq86q zcydq89q\"><div class=\"sx2jih0 h6p8rp0 h6p8rp5\"><div class=\"sx2jih0 zcydq86i\"><span class=\"sx2jih0 zcydq84u _18qlyvc0 _18qlyvc1x _18qlyvc3 _1d0g9qk4 _18qlyvcb\">Qualification</span></div><div class=\"sx2jih0 zcydq86i\"><span class=\"sx2jih0 zcydq84u _18qlyvc0 _18qlyvc1x _18qlyvc1 _1d0g9qk4 _18qlyvcb\">Bachelor\\'s Degree, Post Graduate Diploma, Professional Degree</span></div></div></div></div><div class=\"sx2jih0 zcydq8r _1tqfum90 _1tqfum97\"><div class=\"sx2jih0 zcydq8n zcydq86q zcydq89q\"><div class=\"sx2jih0 h6p8rp0 h6p8rp5\"><div class=\"sx2jih0 zcydq86i\"><span class=\"sx2jih0 zcydq84u _18qlyvc0 _18qlyvc1x _18qlyvc3 _1d0g9qk4 _18qlyvcb\">Years of Experience</span></div><div class=\"sx2jih0 zcydq86i\"><span class=\"sx2jih0 zcydq84u _18qlyvc0 _18qlyvc1x _18qlyvc1 _1d0g9qk4 _18qlyvcb\">3 years</span></div></div></div></div><div class=\"sx2jih0 zcydq8r _1tqfum90 _1tqfum97\"><div class=\"sx2jih0 zcydq8n zcydq86q zcydq89q\"><div class=\"sx2jih0 h6p8rp0 h6p8rp5\"><div class=\"sx2jih0 zcydq86i\"><span class=\"sx2jih0 zcydq84u _18qlyvc0 _18qlyvc1x _18qlyvc3 _1d0g9qk4 _18qlyvcb\">Job Type</span></div><div class=\"sx2jih0 zcydq86i\"><span class=\"sx2jih0 zcydq84u _18qlyvc0 _18qlyvc1x _18qlyvc1 _1d0g9qk4 _18qlyvcb\">Full-Time</span></div></div></div></div><div class=\"sx2jih0 zcydq8r _1tqfum90 _1tqfum97\"><div class=\"sx2jih0 zcydq8n zcydq86q zcydq89q\"><div class=\"sx2jih0 h6p8rp0 h6p8rp5\"><div class=\"sx2jih0 zcydq86i\"><span class=\"sx2jih0 zcydq84u _18qlyvc0 _18qlyvc1x _18qlyvc3 _1d0g9qk4 _18qlyvcb\">Job Specializations</span></div><div class=\"sx2jih0 zcydq86i\"><span class=\"sx2jih0 zcydq84u _18qlyvc0 _18qlyvc1x _18qlyvc1 _1d0g9qk4 _18qlyvcb\"><a class=\"_1hr6tkx5 _1hr6tkx8 _1hr6tkxb sx2jih0 sx2jihf zcydq8h\" href=\"#\"/><a href=\"/en/job-search/computer-information-technology-jobs/\" style=\"color:#4964e9;text-decoration:unset\" title=\"Limit results to Computer/Information Technology\">Computer/Information Technology</a>, <a class=\"_1hr6tkx5 _1hr6tkx8 _1hr6tkxb sx2jih0 sx2jihf zcydq8h\" href=\"#\"/><a href=\"/en/job-search/computer-software-it-jobs/\" style=\"color:#4964e9;text-decoration:unset\" title=\"Limit results to IT-Software\">IT-Software</a></span></div></div></div></div></div></div></div></div></div></div></div><div class=\"sx2jih0 zcydq86q zcydq86v zcydq86w\"><div class=\"sx2jih0 zcydq8p zcydq87q zcydq87v zcydq87w zcydq84u\"><div class=\"sx2jih0 zcydq85a\"><div class=\"sx2jih0 zcydq85e zcydq8p _1xl60vh0 _1xl60vh3 _1xl60vh5 _1xl60vh8\"/></div></div><div class=\"sx2jih0 h6p8rp0 h6p8rp7 h6p8rph\"><div class=\"sx2jih0 zcydq86q zcydq86v zcydq86w\"><div class=\"sx2jih0 h6p8rp0 h6p8rp2\"><div class=\"sx2jih0 zcydq866\"><h4 class=\"sx2jih0 _18qlyvc0 _18qlyvch _1d0g9qk4 _18qlyvcs _18qlyvc1x\">Company Overview</h4></div><div class=\"sx2jih0 zcydq866\"><div class=\"YCeva_0\"><span class=\"sx2jih0 zcydq84u _18qlyvc0 _18qlyvc1x _18qlyvc1 _18qlyvca\"><div class=\"sx2jih0\"><div style=\"text-align:justify\">\\n<div>\\n\\t\\t#BeMore</div>\\n<div>\\n\\t\\tDo you aspire a rewarding career that lets you do more and achieve more? Unleash your full potential at work with TDCX, an award-winning and fast-growing BPO company.</div>\\n<div>\\n\\t\\tWork with the world&#8217;s most loved brands and be with awesome, diverse people. Be home, belong, and start your journey to #BeMore!</div>\\n<div>\\n\\t\\tTop reasons to work here:</div>\\n<div>\\n<br/>\\n\\t\\t&#8226; Attractive remuneration<br/>\\n\\t\\t&#8226; Great perks and performance incentives&#160;<br/>\\n\\t\\t&#8226; Comprehensive medical and insurance coverage<br/>\\n\\t\\t&#8226; Premium workspaces<br/>\\n\\t\\t&#8226; Engaging activities and recognition programs<br/>\\n\\t\\t&#8226; Strong learning and development plans for your career growth<br/>\\n\\t\\t&#8226; Positive culture for you to #BeMore at work<br/>\\n\\t\\t&#8226; Easy to locate area with direct access to public transport<br/>\\n\\t\\t&#8226; Flexible working arrangements<br/>\\n\\t\\t&#8226; Be coached and mentored by experts in your field<br/>\\n\\t\\t&#8226; Join a global company with 26 years of experience and more than 310 industry awards<br/>\\n\\t\\t&#160;</div>\\n</div>\\n<div style=\"text-align:justify\">\\n\\tWho is TDCX?</div>\\n<div style=\"text-align:justify\">\\n<div>\\n<div>\\n\\t\\t\\tWe serve some of the world&#8217;s best brands from our centres of excellence in Singapore, Malaysia, Thailand, Philippines, Hong Kong, Mainland China, South Korea, Japan, India, Romania, Spain, and Colombia. We specialize in perfecting our clients&#8217; customer experience and elevating their sales.</div>\\n<div>\\n\\t\\t\\tWe are guided by a talent philosophy - selecting and employing the best professionals to make the outsource industry better for our people and our clients.</div>\\n\\t\\t\\n\\t\\tOur company has won over 310 industry awards for delivering value driven by technology and continuously innovating our customer-facing brand solutions. Thanks to our premium workspaces, above industry average compensation packages, career opportunities, and long list of perks, we were recently awarded as one of the best companies to work for in Asia<br/>\\n\\t\\t&#160;</div>\\n</div></div></span></div></div></div></div><div class=\"sx2jih0 zcydq86q zcydq86v zcydq86w\"><div class=\"sx2jih0 h6p8rp0 h6p8rp2\"><div class=\"sx2jih0 zcydq866\"><h4 class=\"sx2jih0 _18qlyvc0 _18qlyvch _1d0g9qk4 _18qlyvcs _18qlyvc1x\">Additional Company Information</h4></div><div class=\"sx2jih0 zcydq866\"><div class=\"sx2jih0 h6p8rp0 h6p8rp7\"><div class=\"sx2jih0 zcydq856 zcydq8fe lm2olz6\"><div class=\"sx2jih0 zcydq8r _1tqfum90 _1tqfum97\"><div class=\"sx2jih0 zcydq8n zcydq86q zcydq89q\"><div class=\"sx2jih0 h6p8rp0 h6p8rp5\"><div class=\"sx2jih0 zcydq86i\"><span class=\"sx2jih0 zcydq84u _18qlyvc0 _18qlyvc1x _18qlyvc3 _1d0g9qk4 _18qlyvcb\">Registration No.</span></div><div class=\"sx2jih0 zcydq86i\"><span class=\"sx2jih0 zcydq84u _18qlyvc0 _18qlyvc1x _18qlyvc1 _1d0g9qk4 _18qlyvcb\">555268-P</span></div></div></div></div><div class=\"sx2jih0 zcydq8r _1tqfum90 _1tqfum97\"><div class=\"sx2jih0 zcydq8n zcydq86q zcydq89q\"><div class=\"sx2jih0 h6p8rp0 h6p8rp5\"><div class=\"sx2jih0 zcydq86i\"><span class=\"sx2jih0 zcydq84u _18qlyvc0 _18qlyvc1x _18qlyvc3 _1d0g9qk4 _18qlyvcb\">Company Size</span></div><div class=\"sx2jih0 zcydq86i\"><span class=\"sx2jih0 zcydq84u _18qlyvc0 _18qlyvc1x _18qlyvc1 _1d0g9qk4 _18qlyvcb\">2001 - 5000 Employees</span></div></div></div></div><div class=\"sx2jih0 zcydq8r _1tqfum90 _1tqfum97\"><div class=\"sx2jih0 zcydq8n zcydq86q zcydq89q\"><div class=\"sx2jih0 h6p8rp0 h6p8rp5\"><div class=\"sx2jih0 zcydq86i\"><span class=\"sx2jih0 zcydq84u _18qlyvc0 _18qlyvc1x _18qlyvc3 _1d0g9qk4 _18qlyvcb\">Average Processing Time</span></div><div class=\"sx2jih0 zcydq86i\"><span class=\"sx2jih0 zcydq84u _18qlyvc0 _18qlyvc1x _18qlyvc1 _1d0g9qk4 _18qlyvcb\">15 days</span></div></div></div></div><div class=\"sx2jih0 zcydq8r _1tqfum90 _1tqfum97\"><div class=\"sx2jih0 zcydq8n zcydq86q zcydq89q\"><div class=\"sx2jih0 h6p8rp0 h6p8rp5\"><div class=\"sx2jih0 zcydq86i\"><span class=\"sx2jih0 zcydq84u _18qlyvc0 _18qlyvc1x _18qlyvc3 _1d0g9qk4 _18qlyvcb\">Industry</span></div><div class=\"sx2jih0 zcydq86i\"><span class=\"sx2jih0 zcydq84u _18qlyvc0 _18qlyvc1x _18qlyvc1 _1d0g9qk4 _18qlyvcb\">Call Center/IT-Enabled Services/BPO</span></div></div></div></div><div class=\"sx2jih0 zcydq8r _1tqfum90 _1tqfum97\"><div class=\"sx2jih0 zcydq8n zcydq86q zcydq89q\"><div class=\"sx2jih0 h6p8rp0 h6p8rp5\"><div class=\"sx2jih0 zcydq86i\"><span class=\"sx2jih0 zcydq84u _18qlyvc0 _18qlyvc1x _18qlyvc3 _1d0g9qk4 _18qlyvcb\">Benefits &amp; Others</span></div><div class=\"sx2jih0 zcydq86i\"><span class=\"sx2jih0 zcydq84u _18qlyvc0 _18qlyvc1x _18qlyvc1 _1d0g9qk4 _18qlyvcb\">Dental<!-- -->, <!-- -->Miscellaneous allowance<!-- -->, <!-- -->Medical<!-- -->, <!-- -->Sports (e.g. Gym)<!-- -->, <!-- -->Vision<!-- -->, <!-- -->Incentive, Bonus and Commission Plan, Life-long Learning and Skills Development<!-- -->, <!-- -->Monday &#8211; Thursday: Smart Casual, Friday: Sport Attire<!-- -->, <!-- -->Support: 9:00am &#8211; 6:00pm (Monday &#8211; Friday) Operations: Shift based on markets</span></div></div></div></div><div class=\"sx2jih0 zcydq8r _1tqfum90 _1tqfum97\"><div class=\"sx2jih0 zcydq8n zcydq86q zcydq89q\"><div class=\"sx2jih0 h6p8rp0 h6p8rp5\"><div class=\"sx2jih0 zcydq86i\"><span class=\"sx2jih0 zcydq84u _18qlyvc0 _18qlyvc1x _18qlyvc3 _1d0g9qk4 _18qlyvcb\">Specific Location</span></div><div class=\"sx2jih0 zcydq86i\"><span class=\"sx2jih0 zcydq84u _18qlyvc0 _18qlyvc1x _18qlyvc1 _1d0g9qk4 _18qlyvcb\">KL Sentral</span></div></div></div></div></div></div></div></div></div></div></div></div>'\n"
     ]
    }
   ],
   "source": [
    "print(etree.tostring(job_description))"
   ]
  },
  {
   "cell_type": "code",
   "execution_count": null,
   "metadata": {},
   "outputs": [
    {
     "name": "stdout",
     "output_type": "stream",
     "text": [
      "Big Data & Analytics Developer\n",
      "UCSI University\n",
      "[<span class=\"sx2jih0 zcydq84u _18qlyvc0 _18qlyvc1x _18qlyvc1 _18qlyvca\">Kuala Lumpur</span>, <span class=\"sx2jih0 zcydq84u _18qlyvc0 _18qlyvc1x _18qlyvc1 _18qlyvca\">MYR 5,000 - MYR 6,500</span>, <span class=\"sx2jih0 zcydq84u _18qlyvc0 _18qlyvc1x _18qlyvc1 _18qlyvca\">Posted on 11-Feb-22</span>]\n"
     ]
    }
   ],
   "source": [
    "job_title = employer_details.find('h1', attrs={'class':'sx2jih0 _18qlyvc0 _18qlyvch _1d0g9qk4 _18qlyvcp _18qlyvc1x'}).text\n",
    "print(job_title)\n",
    "company = employer_details.find('span', attrs={'class':'sx2jih0 zcydq84u _18qlyvc0 _18qlyvc1x _18qlyvc2 _1d0g9qk4 _18qlyvcb'}).text\n",
    "print(company)\n",
    "salary_range = employer_details.findAll('span', attrs={'class':'sx2jih0 zcydq84u _18qlyvc0 _18qlyvc1x _18qlyvc1 _18qlyvca'}).\n",
    "print(salary_range)"
   ]
  },
  {
   "cell_type": "markdown",
   "metadata": {},
   "source": [
    "# Definition of scraping functions"
   ]
  },
  {
   "cell_type": "code",
   "execution_count": 105,
   "metadata": {},
   "outputs": [],
   "source": [
    "def search(keyword:str, region:str) -> list:\n",
    "    '''\n",
    "        search jobstreet for keyword, returns results as a list of job results\n",
    "    '''\n",
    "    search_term = keyword.replace(' ', '-')\n",
    "    root_link = r'https://www.jobstreet.com.my/en/job-search/'\n",
    "    search_link = root_link + search_term + '-jobs/' + \"-in-\" + region\n",
    "    page = requests.get(search_link)\n",
    "    soup = BeautifulSoup(page.content, 'html.parser')\n",
    "    results = soup.find('select', attrs={\"id\":\"pagination\"})\n",
    "    options = results.find_all('option')\n",
    "    num_result_pages = int(options[-1]['value'])\n",
    "    print(f\"searching @ {search_link}\")\n",
    "    print(f\"total results pages for search {keyword}:\", {str(num_result_pages)})\n",
    "\n",
    "    all_results = []\n",
    "    print(\"scraping page 1...\")\n",
    "    first_page_results = get_job_links(search_link)\n",
    "    all_results = all_results + first_page_results\n",
    "\n",
    "    #get the rest of the result pages\n",
    "    for page in range(2, num_result_pages+1):\n",
    "        print(f\"scraping page {page}...\")\n",
    "        search_page = search_link + str(page)\n",
    "        results_job_links = get_job_links(search_page)\n",
    "        all_results = all_results + results_job_links\n",
    "\n",
    "    print(\"done!\")\n",
    "    return(all_results)\n",
    "    \n",
    "\n",
    "\n",
    "def get_job_links(page_link:str) -> list:\n",
    "    results_job_links = []\n",
    "    page = requests.get(page_link)\n",
    "    soup = BeautifulSoup(page.content, 'html.parser')\n",
    "    jobs_list = soup.find('div', attrs={'id':\"jobList\"}).find('div', attrs={'data-automation':'jobListing'})\n",
    "    jobs = jobslist.find_all('a', attrs={'class':'_1hr6tkx5 _1hr6tkx8 _1hr6tkxb sx2jih0 sx2jihf zcydq8h', 'href': re.compile(r'^\\/en\\/job\\/')})\n",
    "    for job in jobs:\n",
    "        job_link = job.get('href')\n",
    "        results_job_links.append(job_link)\n",
    "\n",
    "    return results_job_links\n",
    "\n",
    "\n",
    "def extract_job_details(job_page_link:str)->dict:\n",
    "    root_link = r\"https://www.jobstreet.com.my\"\n",
    "    full_link = root_link + job_page_link\n",
    "    job_page = requests.get(full_link)\n",
    "    job_soup = BeautifulSoup(job_page.content, 'html.parser')\n",
    "    parsed_url = urlparse(job_fulllink)\n",
    "    captured_value = parse_qs(parsed_url.query)\n",
    "    \n",
    "    jobID = captured_value['jobId']\n",
    "    \n",
    "    jobs_dom = etree.HTML(str(job_soup))\n",
    "    job_title = jobs_dom.xpath('//*[@id=\"contentContainer\"]/div/div[1]/div[1]/div[1]/div/div/div[1]/div/div/div[2]/div/div/div/div[1]/h1')[0].text\n",
    "    salary_range = jobs_dom.xpath('//*[@id=\"contentContainer\"]/div/div[1]/div[1]/div[1]/div/div/div[2]/div/div/div/div[2]/span')[0].text\n",
    "\n",
    "    cleaner = lxml.html.clean.Cleaner(allow_tags=[''])\n",
    "    cleaned = cleaner.clean_html(etree.tostring(jobs_dom.xpath('//*[@id=\"contentContainer\"]/div/div[2]/div/div[1]/div')[0]))\n",
    "                                                                #//*[@id=\"contentContainer\"]/div/div[2]/div/div[1]/div/div[1]/div/div[2]/div/span/div\n",
    "    job_description = cleaned.decode(\"utf-8\").replace('<div>', '').replace('</div>','')\n",
    "    job_level = list(list(job_soup.find('span', string=\"Career Level\").parent.parent.children)[1].children)[0].text                        \n",
    "    experience = list(list(job_soup.find('span', string=\"Years of Experience\").parent.parent.children)[1].children)[0].text                       \n",
    "    job_type = list(list(job_soup.find('span', string=\"Job Type\").parent.parent.children)[1].children)[0].text \n",
    "    qualifications = list(list(job_soup.find('span', string=\"Qualification\").parent.parent.children)[1].children)[0].text\n",
    "    job_specialization = list(list(job_soup.find('span', string=\"Job Specializations\").parent.parent.children)[1].children)[0].text\n",
    "\n",
    "\n",
    "    company_name = jobs_dom.xpath('//*[@id=\"contentContainer\"]/div/div[1]/div[1]/div[1]/div/div/div[1]/div/div/div[2]/div/div/div/div[2]/span')[0].text\n",
    "    company_registration = list(list(job_soup.find('span', string=\"Registration No.\").parent.parent.children)[1].children)[0].text\n",
    "    company_size = list(list(job_soup.find('span', string=\"Company Size\").parent.parent.children)[1].children)[0].text\n",
    "    company_industry = list(list(list(job_soup.find('span', string=\"Industry\").parent.parent.children)[1].children)[0].children)[0].text\n",
    "    \n",
    "    return {\"job_id\":jobID, 'job_title': job_title, \"salary_range\":salary_range, \"job_description\":job_description, \"job_level\":job_level, \"experience\":experience, \"job_type\":job_type, \"qualifications\":qualifications, 'job_specialization':job_specialization, 'company_name':company_name, 'company_registration':company_registration, \"company_size\":company_size, \"company_industry\":company_industry, }\n",
    "    \n",
    "\n",
    "def get_job_page(job_page_link:str):\n",
    "    root_link = r\"https://www.jobstreet.com.my\"\n",
    "    full_link = root_link + job_page_link\n",
    "    job_page = requests.get(full_link)\n",
    "    job_soup = BeautifulSoup(job_page.content, 'html.parser')\n",
    "    parsed_url = urlparse(job_fulllink)\n",
    "    captured_value = parse_qs(parsed_url.query)\n",
    "    \n",
    "    job_ID = captured_value['jobId']\n",
    "\n",
    "    return {'job_ID': job_ID, 'page':page.content}\n",
    "    \n"
   ]
  },
  {
   "cell_type": "code",
   "execution_count": 41,
   "metadata": {},
   "outputs": [
    {
     "name": "stdout",
     "output_type": "stream",
     "text": [
      "searching @ https://www.jobstreet.com.my/en/job-search/data-engineer-jobs/\n",
      "total results pages for search data engineer: {'30'}\n",
      "scraping page 1...\n",
      "scraping page 2...\n",
      "scraping page 3...\n",
      "scraping page 4...\n",
      "scraping page 5...\n",
      "scraping page 6...\n",
      "scraping page 7...\n",
      "scraping page 8...\n",
      "scraping page 9...\n",
      "scraping page 10...\n",
      "scraping page 11...\n",
      "scraping page 12...\n",
      "scraping page 13...\n",
      "scraping page 14...\n",
      "scraping page 15...\n",
      "scraping page 16...\n",
      "scraping page 17...\n",
      "scraping page 18...\n",
      "scraping page 19...\n",
      "scraping page 20...\n",
      "scraping page 21...\n",
      "scraping page 22...\n",
      "scraping page 23...\n",
      "scraping page 24...\n",
      "scraping page 25...\n",
      "scraping page 26...\n",
      "scraping page 27...\n",
      "scraping page 28...\n",
      "scraping page 29...\n",
      "scraping page 30...\n",
      "done!\n"
     ]
    }
   ],
   "source": [
    "states = [\"negeri-sembilan\", \"kedah\", \"pahang\", \"perak\", \"selangor\", \"sabah\", \"johor\", \"sarawak\", \"terengganu\", \"perlis\", \"kelantan\", \"melaka\", \"penang\", \"kuala-lumpur\"]\n",
    "job_search_terms = [\"data engineer\", \"data scientist\", \"data analyst\"]\n",
    "\n",
    "\n",
    "results = search(\"data engineer\")"
   ]
  },
  {
   "cell_type": "code",
   "execution_count": 42,
   "metadata": {},
   "outputs": [
    {
     "name": "stdout",
     "output_type": "stream",
     "text": [
      "900\n",
      "/en/job/assistant-vice-president-data-engineer-compliance-amlt-remediation-4824511?jobId=jobstreet-my-job-4824511&sectionRank=2&token=0~2cdf76e9-a859-4c15-bb9a-e16a948b507a&fr=SRP%20Job%20Listing\n"
     ]
    }
   ],
   "source": [
    "print(len(results))\n",
    "print(results[1])"
   ]
  },
  {
   "cell_type": "code",
   "execution_count": 106,
   "metadata": {},
   "outputs": [],
   "source": [
    "JD = extract_job_details(results[1])\n",
    "JD2 = extract_job_details(results[3])\n"
   ]
  },
  {
   "cell_type": "code",
   "execution_count": 107,
   "metadata": {},
   "outputs": [],
   "source": [
    "df = pd.DataFrame(JD)"
   ]
  },
  {
   "cell_type": "code",
   "execution_count": 108,
   "metadata": {},
   "outputs": [],
   "source": [
    "df = df.append(JD2, ignore_index=True)"
   ]
  },
  {
   "cell_type": "code",
   "execution_count": 109,
   "metadata": {},
   "outputs": [
    {
     "data": {
      "text/html": [
       "<div>\n",
       "<style scoped>\n",
       "    .dataframe tbody tr th:only-of-type {\n",
       "        vertical-align: middle;\n",
       "    }\n",
       "\n",
       "    .dataframe tbody tr th {\n",
       "        vertical-align: top;\n",
       "    }\n",
       "\n",
       "    .dataframe thead th {\n",
       "        text-align: right;\n",
       "    }\n",
       "</style>\n",
       "<table border=\"1\" class=\"dataframe\">\n",
       "  <thead>\n",
       "    <tr style=\"text-align: right;\">\n",
       "      <th></th>\n",
       "      <th>job_id</th>\n",
       "      <th>job_title</th>\n",
       "      <th>salary_range</th>\n",
       "      <th>job_description</th>\n",
       "      <th>job_level</th>\n",
       "      <th>experience</th>\n",
       "      <th>job_type</th>\n",
       "      <th>qualifications</th>\n",
       "      <th>job_specialization</th>\n",
       "      <th>company_name</th>\n",
       "      <th>company_registration</th>\n",
       "      <th>company_size</th>\n",
       "      <th>company_industry</th>\n",
       "    </tr>\n",
       "  </thead>\n",
       "  <tbody>\n",
       "    <tr>\n",
       "      <th>0</th>\n",
       "      <td>jobstreet-my-job-4846899</td>\n",
       "      <td>Assistant Vice President - Data Engineer ( Com...</td>\n",
       "      <td>Posted on 25-Feb-22</td>\n",
       "      <td>Job Description• Design, build and implement E...</td>\n",
       "      <td>Manager</td>\n",
       "      <td>5 years</td>\n",
       "      <td>Full-Time</td>\n",
       "      <td>Bachelor's Degree, Post Graduate Diploma, Prof...</td>\n",
       "      <td>Accounting/Finance, Banking/Financial</td>\n",
       "      <td>CIMB Group</td>\n",
       "      <td>13491-P</td>\n",
       "      <td>More than 5000 Employees</td>\n",
       "      <td>Banking / Financial Services</td>\n",
       "    </tr>\n",
       "    <tr>\n",
       "      <th>1</th>\n",
       "      <td>[jobstreet-my-job-4846899]</td>\n",
       "      <td>Data Engineer</td>\n",
       "      <td>Posted on 25-Feb-22</td>\n",
       "      <td>Job HighlightsYou’re guaranteed a Flexible Wor...</td>\n",
       "      <td>Senior Executive</td>\n",
       "      <td>4 years</td>\n",
       "      <td>Full-Time</td>\n",
       "      <td>Not Specified</td>\n",
       "      <td>Computer/Information Technology, IT-Software</td>\n",
       "      <td>KINESSO MALAYSIA SDN. BHD. (fka Mediabrands Gl...</td>\n",
       "      <td>201201019216</td>\n",
       "      <td>2001 - 5000 Employees</td>\n",
       "      <td>Advertising / Marketing / Promotion / PR</td>\n",
       "    </tr>\n",
       "  </tbody>\n",
       "</table>\n",
       "</div>"
      ],
      "text/plain": [
       "                       job_id  \\\n",
       "0    jobstreet-my-job-4846899   \n",
       "1  [jobstreet-my-job-4846899]   \n",
       "\n",
       "                                           job_title         salary_range  \\\n",
       "0  Assistant Vice President - Data Engineer ( Com...  Posted on 25-Feb-22   \n",
       "1                                      Data Engineer  Posted on 25-Feb-22   \n",
       "\n",
       "                                     job_description         job_level  \\\n",
       "0  Job Description• Design, build and implement E...           Manager   \n",
       "1  Job HighlightsYou’re guaranteed a Flexible Wor...  Senior Executive   \n",
       "\n",
       "  experience   job_type                                     qualifications  \\\n",
       "0    5 years  Full-Time  Bachelor's Degree, Post Graduate Diploma, Prof...   \n",
       "1    4 years  Full-Time                                      Not Specified   \n",
       "\n",
       "                             job_specialization  \\\n",
       "0         Accounting/Finance, Banking/Financial   \n",
       "1  Computer/Information Technology, IT-Software   \n",
       "\n",
       "                                        company_name company_registration  \\\n",
       "0                                         CIMB Group              13491-P   \n",
       "1  KINESSO MALAYSIA SDN. BHD. (fka Mediabrands Gl...         201201019216   \n",
       "\n",
       "               company_size                          company_industry  \n",
       "0  More than 5000 Employees              Banking / Financial Services  \n",
       "1     2001 - 5000 Employees  Advertising / Marketing / Promotion / PR  "
      ]
     },
     "execution_count": 109,
     "metadata": {},
     "output_type": "execute_result"
    }
   ],
   "source": [
    "df.head()"
   ]
  },
  {
   "cell_type": "code",
   "execution_count": 73,
   "metadata": {},
   "outputs": [],
   "source": [
    "page = requests.get(r\"https://www.jobstreet.com.my/en/job/assistant-vice-president-data-engineer-compliance-amlt-remediation-4824511?fr=SRP%20Job%20Listing&jobId=jobstreet-my-job-4824511&sectionRank=2&token=0~2cdf76e9-a859-4c15-bb9a-e16a948b507a\")"
   ]
  },
  {
   "cell_type": "code",
   "execution_count": 87,
   "metadata": {},
   "outputs": [
    {
     "data": {
      "text/plain": [
       "'Manager'"
      ]
     },
     "execution_count": 87,
     "metadata": {},
     "output_type": "execute_result"
    }
   ],
   "source": [
    "soup = BeautifulSoup(page.content, 'html.parser')\n",
    "list(list(soup.find('span', string=\"Career Level\").parent.parent.children)[1].children)[0].text"
   ]
  }
 ],
 "metadata": {
  "interpreter": {
   "hash": "cadcdcb536bf306a94042e6d3e2806f549212ffab4cd86c3d91066de65a7cf2b"
  },
  "kernelspec": {
   "display_name": "Python 3.9.7 ('forwardSchool')",
   "language": "python",
   "name": "python3"
  },
  "language_info": {
   "codemirror_mode": {
    "name": "ipython",
    "version": 3
   },
   "file_extension": ".py",
   "mimetype": "text/x-python",
   "name": "python",
   "nbconvert_exporter": "python",
   "pygments_lexer": "ipython3",
   "version": "3.9.7"
  },
  "orig_nbformat": 4
 },
 "nbformat": 4,
 "nbformat_minor": 2
}
