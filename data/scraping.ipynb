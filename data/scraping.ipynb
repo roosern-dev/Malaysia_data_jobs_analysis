{
 "cells": [
  {
   "cell_type": "markdown",
   "metadata": {},
   "source": [
    "# Scraping script for obtaining data on data related jobs in Malaysia"
   ]
  },
  {
   "cell_type": "code",
   "execution_count": 26,
   "metadata": {},
   "outputs": [],
   "source": [
    "import time\n",
    "from selenium import webdriver\n",
    "from bs4 import BeautifulSoup\n",
    "from webdriver_manager.chrome import ChromeDriverManager\n",
    "from bs4 import BeautifulSoup\n",
    "import requests\n",
    "import re\n",
    "\n",
    "#driver = webdriver.Chrome(ChromeDriverManager().install())\n",
    "\n",
    "# htmlSource = driver.page_source"
   ]
  },
  {
   "cell_type": "code",
   "execution_count": 23,
   "metadata": {},
   "outputs": [],
   "source": [
    "data_engineer_site = r'https://www.jobstreet.com.my/en/job-search/data-engineer-jobs/'\n",
    "\n",
    "page = requests.get(data_engineer_site)\n",
    "\n",
    "soup = BeautifulSoup(page.content, 'html.parser')\n",
    "\n"
   ]
  },
  {
   "cell_type": "code",
   "execution_count": 22,
   "metadata": {},
   "outputs": [
    {
     "data": {
      "text/plain": [
       "'29'"
      ]
     },
     "execution_count": 22,
     "metadata": {},
     "output_type": "execute_result"
    }
   ],
   "source": [
    "#find number of result pages\n",
    "results = soup.find('select', attrs={\"id\":\"pagination\"})\n",
    "options = results.find_all('option')\n",
    "\n",
    "num_result_pages = int(options[-1]['value'])"
   ]
  },
  {
   "cell_type": "code",
   "execution_count": 24,
   "metadata": {},
   "outputs": [],
   "source": [
    "jobs = soup.find_all('a', attrs={'class':'_1hr6tkx5 _1hr6tkx8 _1hr6tkxb sx2jih0 sx2jihf zcydq8h', 'href': re.compile(r'')})"
   ]
  },
  {
   "cell_type": "code",
   "execution_count": 25,
   "metadata": {},
   "outputs": [
    {
     "data": {
      "text/plain": [
       "[<a class=\"_1hr6tkx5 _1hr6tkx8 _1hr6tkxb sx2jih0 sx2jihf zcydq8h\" href=\"/en/job-search/data-analyst-jobs/\">data analyst jobs</a>,\n",
       " <a class=\"_1hr6tkx5 _1hr6tkx8 _1hr6tkxb sx2jih0 sx2jihf zcydq8h\" href=\"/en/job-search/data-scientist-jobs/\">data scientist jobs</a>,\n",
       " <a class=\"_1hr6tkx5 _1hr6tkx8 _1hr6tkxb sx2jih0 sx2jihf zcydq8h\" href=\"/en/job-search/data-science-jobs/\">data science jobs</a>,\n",
       " <a class=\"_1hr6tkx5 _1hr6tkx8 _1hr6tkxb sx2jih0 sx2jihf zcydq8h\" href=\"/en/job-search/data-jobs/\">data jobs</a>,\n",
       " <a class=\"_1hr6tkx5 _1hr6tkx8 _1hr6tkxb sx2jih0 sx2jihf zcydq8h\" href=\"/en/job-search/junior-data-engineer-jobs/\">junior data engineer jobs</a>,\n",
       " <a class=\"_1hr6tkx5 _1hr6tkx8 _1hr6tkxb sx2jih0 sx2jihf zcydq8h\" href=\"/en/job-search/software-engineer-jobs/\">software engineer jobs</a>,\n",
       " <a class=\"_1hr6tkx5 _1hr6tkx8 _1hr6tkxb sx2jih0 sx2jihf zcydq8h\" href=\"/en/job-search/business-intelligence-jobs/\">business intelligence jobs</a>,\n",
       " <a class=\"_1hr6tkx5 _1hr6tkx8 _1hr6tkxb sx2jih0 sx2jihf zcydq8h\" href=\"/en/job-search/big-data-jobs/\">big data jobs</a>,\n",
       " <a class=\"_1hr6tkx5 _1hr6tkx8 _1hr6tkxb sx2jih0 sx2jihf zcydq8h\" href=\"/en/job/data-engineer-4834504?jobId=jobstreet-my-job-4834504&amp;sectionRank=1&amp;token=0~854699e9-d9c8-475b-a2de-479d2657eaf7&amp;fr=SRP%20Job%20Listing\" rel=\"nofollow noopener noreferrer\" target=\"_top\"><div class=\"sx2jih0 l3gun70 l3gun74 l3gun72\"><span class=\"sx2jih0\">Data Engineer</span></div></a>,\n",
       " <a class=\"_1hr6tkx5 _1hr6tkx8 _1hr6tkxb sx2jih0 sx2jihf zcydq8h\" href=\"/en/job-search/data-engineer-jobs/?specialization=508\" rel=\"nofollow\" title=\"Limit results to Computer/Information Technology \">Computer/Information Technology</a>,\n",
       " <a class=\"_1hr6tkx5 _1hr6tkx8 _1hr6tkxb sx2jih0 sx2jihf zcydq8h\" href=\"/en/job-search/data-engineer-jobs/?specialization=191\" rel=\"nofollow\" title=\"Limit results to IT-Software in Computer/Information Technology\">IT-Software</a>,\n",
       " <a class=\"_1hr6tkx5 _1hr6tkx8 _1hr6tkxb sx2jih0 sx2jihf zcydq8h\" href=\"/en/job-search/data-engineer-jobs/?job-type=full_time\" rel=\"nofollow\" title=\"Limit results to Full-Time \">Full-Time</a>,\n",
       " <a class=\"_1hr6tkx5 _1hr6tkx8 _1hr6tkxb sx2jih0 sx2jihf zcydq8h\" href=\"/en/job/manager-data-engineer-group-audit-4816283?jobId=jobstreet-my-job-4816283&amp;sectionRank=2&amp;token=0~854699e9-d9c8-475b-a2de-479d2657eaf7&amp;fr=SRP%20Job%20Listing\" rel=\"nofollow noopener noreferrer\" target=\"_top\"><div class=\"sx2jih0 l3gun70 l3gun74 l3gun72\"><span class=\"sx2jih0\">Manager Data Engineer , Group Audit</span></div></a>,\n",
       " <a class=\"_1hr6tkx5 _1hr6tkx8 _1hr6tkxb sx2jih0 sx2jihf zcydq8h\" href=\"/en/job-search/data-engineer-jobs/?specialization=508\" rel=\"nofollow\" title=\"Limit results to Computer/Information Technology \">Computer/Information Technology</a>,\n",
       " <a class=\"_1hr6tkx5 _1hr6tkx8 _1hr6tkxb sx2jih0 sx2jihf zcydq8h\" href=\"/en/job-search/data-engineer-jobs/?specialization=191\" rel=\"nofollow\" title=\"Limit results to IT-Software in Computer/Information Technology\">IT-Software</a>,\n",
       " <a class=\"_1hr6tkx5 _1hr6tkx8 _1hr6tkxb sx2jih0 sx2jihf zcydq8h\" href=\"/en/job-search/data-engineer-jobs/?job-type=full_time\" rel=\"nofollow\" title=\"Limit results to Full-Time \">Full-Time</a>,\n",
       " <a class=\"_1hr6tkx5 _1hr6tkx8 _1hr6tkxb sx2jih0 sx2jihf zcydq8h\" href=\"/en/job/systems-and-data-engineer-4832841?jobId=jobstreet-my-job-4832841&amp;sectionRank=3&amp;token=0~854699e9-d9c8-475b-a2de-479d2657eaf7&amp;fr=SRP%20Job%20Listing\" rel=\"nofollow noopener noreferrer\" target=\"_top\"><div class=\"sx2jih0 l3gun70 l3gun74 l3gun72\"><span class=\"sx2jih0\">Systems and Data Engineer</span></div></a>,\n",
       " <a class=\"_1hr6tkx5 _1hr6tkx8 _1hr6tkxb sx2jih0 sx2jihf zcydq8h\" href=\"/en/job-search/data-engineer-jobs/?specialization=509\" rel=\"nofollow\" title=\"Limit results to Engineering \">Engineering</a>,\n",
       " <a class=\"_1hr6tkx5 _1hr6tkx8 _1hr6tkxb sx2jih0 sx2jihf zcydq8h\" href=\"/en/job-search/data-engineer-jobs/?specialization=186\" rel=\"nofollow\" title=\"Limit results to Electronics in Engineering\">Electronics</a>,\n",
       " <a class=\"_1hr6tkx5 _1hr6tkx8 _1hr6tkxb sx2jih0 sx2jihf zcydq8h\" href=\"/en/job-search/data-engineer-jobs/?job-type=full_time\" rel=\"nofollow\" title=\"Limit results to Full-Time \">Full-Time</a>,\n",
       " <a class=\"_1hr6tkx5 _1hr6tkx8 _1hr6tkxb sx2jih0 sx2jihf zcydq8h\" href=\"/en/job/data-engineer-online-data-engineer-4833490?jobId=jobstreet-my-job-4833490&amp;sectionRank=4&amp;token=0~854699e9-d9c8-475b-a2de-479d2657eaf7&amp;fr=SRP%20Job%20Listing\" rel=\"nofollow noopener noreferrer\" target=\"_top\"><div class=\"sx2jih0 l3gun70 l3gun74 l3gun72\"><span class=\"sx2jih0\">Data Engineer Online Data Engineer</span></div></a>,\n",
       " <a class=\"_1hr6tkx5 _1hr6tkx8 _1hr6tkxb sx2jih0 sx2jihf zcydq8h\" href=\"/en/job-search/data-engineer-jobs/?specialization=508\" rel=\"nofollow\" title=\"Limit results to Computer/Information Technology \">Computer/Information Technology</a>,\n",
       " <a class=\"_1hr6tkx5 _1hr6tkx8 _1hr6tkxb sx2jih0 sx2jihf zcydq8h\" href=\"/en/job-search/data-engineer-jobs/?specialization=191\" rel=\"nofollow\" title=\"Limit results to IT-Software in Computer/Information Technology\">IT-Software</a>,\n",
       " <a class=\"_1hr6tkx5 _1hr6tkx8 _1hr6tkxb sx2jih0 sx2jihf zcydq8h\" href=\"/en/job-search/data-engineer-jobs/?job-type=full_time\" rel=\"nofollow\" title=\"Limit results to Full-Time \">Full-Time</a>,\n",
       " <a class=\"_1hr6tkx5 _1hr6tkx8 _1hr6tkxb sx2jih0 sx2jihf zcydq8h\" href=\"/en/job/data-engineer-python-bigquery-ref%3Avl-4831722?jobId=jobstreet-my-job-4831722&amp;sectionRank=5&amp;token=0~854699e9-d9c8-475b-a2de-479d2657eaf7&amp;fr=SRP%20Job%20Listing\" rel=\"nofollow noopener noreferrer\" target=\"_top\"><div class=\"sx2jih0 l3gun70 l3gun74 l3gun72\"><span class=\"sx2jih0\">DATA ENGINEER (PYTHON + BIGQUERY) (REF:VL)</span></div></a>,\n",
       " <a class=\"_1hr6tkx5 _1hr6tkx8 _1hr6tkxb sx2jih0 sx2jihf zcydq8h\" href=\"/en/job-search/data-engineer-jobs/?specialization=508\" rel=\"nofollow\" title=\"Limit results to Computer/Information Technology \">Computer/Information Technology</a>,\n",
       " <a class=\"_1hr6tkx5 _1hr6tkx8 _1hr6tkxb sx2jih0 sx2jihf zcydq8h\" href=\"/en/job-search/data-engineer-jobs/?specialization=191\" rel=\"nofollow\" title=\"Limit results to IT-Software in Computer/Information Technology\">IT-Software</a>,\n",
       " <a class=\"_1hr6tkx5 _1hr6tkx8 _1hr6tkxb sx2jih0 sx2jihf zcydq8h\" href=\"/en/job-search/data-engineer-jobs/?job-type=full_time\" rel=\"nofollow\" title=\"Limit results to Full-Time \">Full-Time</a>,\n",
       " <a class=\"_1hr6tkx5 _1hr6tkx8 _1hr6tkxb sx2jih0 sx2jihf zcydq8h\" href=\"/en/job/ai-engineer-data-scientist-4833088?jobId=jobstreet-my-job-4833088&amp;sectionRank=6&amp;token=0~854699e9-d9c8-475b-a2de-479d2657eaf7&amp;fr=SRP%20Job%20Listing\" rel=\"nofollow noopener noreferrer\" target=\"_top\"><div class=\"sx2jih0 l3gun70 l3gun74 l3gun72\"><span class=\"sx2jih0\">AI Engineer / Data Scientist</span></div></a>,\n",
       " <a class=\"_1hr6tkx5 _1hr6tkx8 _1hr6tkxb sx2jih0 sx2jihf zcydq8h\" href=\"/en/job-search/data-engineer-jobs/?specialization=508\" rel=\"nofollow\" title=\"Limit results to Computer/Information Technology \">Computer/Information Technology</a>,\n",
       " <a class=\"_1hr6tkx5 _1hr6tkx8 _1hr6tkxb sx2jih0 sx2jihf zcydq8h\" href=\"/en/job-search/data-engineer-jobs/?specialization=191\" rel=\"nofollow\" title=\"Limit results to IT-Software in Computer/Information Technology\">IT-Software</a>,\n",
       " <a class=\"_1hr6tkx5 _1hr6tkx8 _1hr6tkxb sx2jih0 sx2jihf zcydq8h\" href=\"/en/job-search/data-engineer-jobs/?job-type=full_time\" rel=\"nofollow\" title=\"Limit results to Full-Time \">Full-Time</a>,\n",
       " <a class=\"_1hr6tkx5 _1hr6tkx8 _1hr6tkxb sx2jih0 sx2jihf zcydq8h\" href=\"/en/job/data-quality-engineer-junior-senior-4832109?jobId=jobstreet-my-job-4832109&amp;sectionRank=7&amp;token=0~854699e9-d9c8-475b-a2de-479d2657eaf7&amp;fr=SRP%20Job%20Listing\" rel=\"nofollow noopener noreferrer\" target=\"_top\"><div class=\"sx2jih0 l3gun70 l3gun74 l3gun72\"><span class=\"sx2jih0\">Data Quality Engineer (Junior - Senior)</span></div></a>,\n",
       " <a class=\"_1hr6tkx5 _1hr6tkx8 _1hr6tkxb sx2jih0 sx2jihf zcydq8h\" href=\"/en/job-search/data-engineer-jobs/?specialization=508\" rel=\"nofollow\" title=\"Limit results to Computer/Information Technology \">Computer/Information Technology</a>,\n",
       " <a class=\"_1hr6tkx5 _1hr6tkx8 _1hr6tkxb sx2jih0 sx2jihf zcydq8h\" href=\"/en/job-search/data-engineer-jobs/?specialization=191\" rel=\"nofollow\" title=\"Limit results to IT-Software in Computer/Information Technology\">IT-Software</a>,\n",
       " <a class=\"_1hr6tkx5 _1hr6tkx8 _1hr6tkxb sx2jih0 sx2jihf zcydq8h\" href=\"/en/job-search/data-engineer-jobs/?job-type=full_time\" rel=\"nofollow\" title=\"Limit results to Full-Time \">Full-Time</a>,\n",
       " <a class=\"_1hr6tkx5 _1hr6tkx8 _1hr6tkxb sx2jih0 sx2jihf zcydq8h\" href=\"/en/job/senior-data-engineer-data-platform-4833151?jobId=jobstreet-my-job-4833151&amp;sectionRank=8&amp;token=0~854699e9-d9c8-475b-a2de-479d2657eaf7&amp;fr=SRP%20Job%20Listing\" rel=\"nofollow noopener noreferrer\" target=\"_top\"><div class=\"sx2jih0 l3gun70 l3gun74 l3gun72\"><span class=\"sx2jih0\">Senior Data Engineer - Data Platform</span></div></a>,\n",
       " <a class=\"_1hr6tkx5 _1hr6tkx8 _1hr6tkxb sx2jih0 sx2jihf zcydq8h\" href=\"/en/job-search/data-engineer-jobs/?specialization=508\" rel=\"nofollow\" title=\"Limit results to Computer/Information Technology \">Computer/Information Technology</a>,\n",
       " <a class=\"_1hr6tkx5 _1hr6tkx8 _1hr6tkxb sx2jih0 sx2jihf zcydq8h\" href=\"/en/job-search/data-engineer-jobs/?specialization=191\" rel=\"nofollow\" title=\"Limit results to IT-Software in Computer/Information Technology\">IT-Software</a>,\n",
       " <a class=\"_1hr6tkx5 _1hr6tkx8 _1hr6tkxb sx2jih0 sx2jihf zcydq8h\" href=\"/en/job-search/data-engineer-jobs/?job-type=full_time\" rel=\"nofollow\" title=\"Limit results to Full-Time \">Full-Time</a>,\n",
       " <a class=\"_1hr6tkx5 _1hr6tkx8 _1hr6tkxb sx2jih0 sx2jihf zcydq8h\" href=\"/en/job/data-scientist-4834075?jobId=jobstreet-my-job-4834075&amp;sectionRank=9&amp;token=0~854699e9-d9c8-475b-a2de-479d2657eaf7&amp;fr=SRP%20Job%20Listing\" rel=\"nofollow noopener noreferrer\" target=\"_top\"><div class=\"sx2jih0 l3gun70 l3gun74 l3gun72\"><span class=\"sx2jih0\">Data Scientist</span></div></a>,\n",
       " <a class=\"_1hr6tkx5 _1hr6tkx8 _1hr6tkxb sx2jih0 sx2jihf zcydq8h\" href=\"/en/job-search/data-engineer-jobs/?specialization=514\" rel=\"nofollow\" title=\"Limit results to Others \">Others</a>,\n",
       " <a class=\"_1hr6tkx5 _1hr6tkx8 _1hr6tkxb sx2jih0 sx2jihf zcydq8h\" href=\"/en/job-search/data-engineer-jobs/?specialization=116\" rel=\"nofollow\" title=\"Limit results to Others in Others\">Others</a>,\n",
       " <a class=\"_1hr6tkx5 _1hr6tkx8 _1hr6tkxb sx2jih0 sx2jihf zcydq8h\" href=\"/en/job-search/data-engineer-jobs/?job-type=full_time\" rel=\"nofollow\" title=\"Limit results to Full-Time \">Full-Time</a>,\n",
       " <a class=\"_1hr6tkx5 _1hr6tkx8 _1hr6tkxb sx2jih0 sx2jihf zcydq8h\" href=\"/en/job/data-engineer-data-bricks-apache-spark-4798079?jobId=jobstreet-my-job-4798079&amp;sectionRank=10&amp;token=0~854699e9-d9c8-475b-a2de-479d2657eaf7&amp;fr=SRP%20Job%20Listing\" rel=\"nofollow noopener noreferrer\" target=\"_top\"><div class=\"sx2jih0 l3gun70 l3gun74 l3gun72\"><span class=\"sx2jih0\">Data Engineer (Data Bricks/Apache Spark)</span></div></a>,\n",
       " <a class=\"_1hr6tkx5 _1hr6tkx8 _1hr6tkxb sx2jih0 sx2jihf zcydq8h\" href=\"/en/job-search/data-engineer-jobs/?specialization=508\" rel=\"nofollow\" title=\"Limit results to Computer/Information Technology \">Computer/Information Technology</a>,\n",
       " <a class=\"_1hr6tkx5 _1hr6tkx8 _1hr6tkxb sx2jih0 sx2jihf zcydq8h\" href=\"/en/job-search/data-engineer-jobs/?specialization=191\" rel=\"nofollow\" title=\"Limit results to IT-Software in Computer/Information Technology\">IT-Software</a>,\n",
       " <a class=\"_1hr6tkx5 _1hr6tkx8 _1hr6tkxb sx2jih0 sx2jihf zcydq8h\" href=\"/en/job-search/data-engineer-jobs/?job-type=full_time\" rel=\"nofollow\" title=\"Limit results to Full-Time \">Full-Time</a>,\n",
       " <a class=\"_1hr6tkx5 _1hr6tkx8 _1hr6tkxb sx2jih0 sx2jihf zcydq8h\" href=\"/en/job/data-solution-architect-4802107?jobId=jobstreet-my-job-4802107&amp;sectionRank=11&amp;token=0~854699e9-d9c8-475b-a2de-479d2657eaf7&amp;fr=SRP%20Job%20Listing\" rel=\"nofollow noopener noreferrer\" target=\"_top\"><div class=\"sx2jih0 l3gun70 l3gun74 l3gun72\"><span class=\"sx2jih0\">Data Solution Architect</span></div></a>,\n",
       " <a class=\"_1hr6tkx5 _1hr6tkx8 _1hr6tkxb sx2jih0 sx2jihf zcydq8h\" href=\"/en/job-search/data-engineer-jobs/?specialization=508\" rel=\"nofollow\" title=\"Limit results to Computer/Information Technology \">Computer/Information Technology</a>,\n",
       " <a class=\"_1hr6tkx5 _1hr6tkx8 _1hr6tkxb sx2jih0 sx2jihf zcydq8h\" href=\"/en/job-search/data-engineer-jobs/?specialization=191\" rel=\"nofollow\" title=\"Limit results to IT-Software in Computer/Information Technology\">IT-Software</a>,\n",
       " <a class=\"_1hr6tkx5 _1hr6tkx8 _1hr6tkxb sx2jih0 sx2jihf zcydq8h\" href=\"/en/job-search/data-engineer-jobs/?job-type=full_time\" rel=\"nofollow\" title=\"Limit results to Full-Time \">Full-Time</a>,\n",
       " <a class=\"_1hr6tkx5 _1hr6tkx8 _1hr6tkxb sx2jih0 sx2jihf zcydq8h\" href=\"/en/job/data-engineer-4812493?jobId=jobstreet-my-job-4812493&amp;sectionRank=12&amp;token=0~854699e9-d9c8-475b-a2de-479d2657eaf7&amp;fr=SRP%20Job%20Listing\" rel=\"nofollow noopener noreferrer\" target=\"_top\"><div class=\"sx2jih0 l3gun70 l3gun74 l3gun72\"><span class=\"sx2jih0\">Data Engineer</span></div></a>,\n",
       " <a class=\"_1hr6tkx5 _1hr6tkx8 _1hr6tkxb sx2jih0 sx2jihf zcydq8h\" href=\"/en/job-search/data-engineer-jobs/?specialization=508\" rel=\"nofollow\" title=\"Limit results to Computer/Information Technology \">Computer/Information Technology</a>,\n",
       " <a class=\"_1hr6tkx5 _1hr6tkx8 _1hr6tkxb sx2jih0 sx2jihf zcydq8h\" href=\"/en/job-search/data-engineer-jobs/?specialization=191\" rel=\"nofollow\" title=\"Limit results to IT-Software in Computer/Information Technology\">IT-Software</a>,\n",
       " <a class=\"_1hr6tkx5 _1hr6tkx8 _1hr6tkxb sx2jih0 sx2jihf zcydq8h\" href=\"/en/job-search/data-engineer-jobs/?job-type=full_time\" rel=\"nofollow\" title=\"Limit results to Full-Time \">Full-Time</a>,\n",
       " <a class=\"_1hr6tkx5 _1hr6tkx8 _1hr6tkxb sx2jih0 sx2jihf zcydq8h\" href=\"/en/job/data-warehouse-solution-designer-4832937?jobId=jobstreet-my-job-4832937&amp;sectionRank=13&amp;token=0~854699e9-d9c8-475b-a2de-479d2657eaf7&amp;fr=SRP%20Job%20Listing\" rel=\"nofollow noopener noreferrer\" target=\"_top\"><div class=\"sx2jih0 l3gun70 l3gun74 l3gun72\"><span class=\"sx2jih0\">Data Warehouse Solution Designer</span></div></a>,\n",
       " <a class=\"_1hr6tkx5 _1hr6tkx8 _1hr6tkxb sx2jih0 sx2jihf zcydq8h\" href=\"/en/job-search/data-engineer-jobs/?specialization=508\" rel=\"nofollow\" title=\"Limit results to Computer/Information Technology \">Computer/Information Technology</a>,\n",
       " <a class=\"_1hr6tkx5 _1hr6tkx8 _1hr6tkxb sx2jih0 sx2jihf zcydq8h\" href=\"/en/job-search/data-engineer-jobs/?specialization=191\" rel=\"nofollow\" title=\"Limit results to IT-Software in Computer/Information Technology\">IT-Software</a>,\n",
       " <a class=\"_1hr6tkx5 _1hr6tkx8 _1hr6tkxb sx2jih0 sx2jihf zcydq8h\" href=\"/en/job-search/data-engineer-jobs/?job-type=full_time\" rel=\"nofollow\" title=\"Limit results to Full-Time \">Full-Time</a>,\n",
       " <a class=\"_1hr6tkx5 _1hr6tkx8 _1hr6tkxb sx2jih0 sx2jihf zcydq8h\" href=\"/en/job/senior-data-engineer-4831930?jobId=jobstreet-my-job-4831930&amp;sectionRank=14&amp;token=0~854699e9-d9c8-475b-a2de-479d2657eaf7&amp;fr=SRP%20Job%20Listing\" rel=\"nofollow noopener noreferrer\" target=\"_top\"><div class=\"sx2jih0 l3gun70 l3gun74 l3gun72\"><span class=\"sx2jih0\">Senior Data Engineer</span></div></a>,\n",
       " <a class=\"_1hr6tkx5 _1hr6tkx8 _1hr6tkxb sx2jih0 sx2jihf zcydq8h\" href=\"/en/job-search/data-engineer-jobs/?specialization=508\" rel=\"nofollow\" title=\"Limit results to Computer/Information Technology \">Computer/Information Technology</a>,\n",
       " <a class=\"_1hr6tkx5 _1hr6tkx8 _1hr6tkxb sx2jih0 sx2jihf zcydq8h\" href=\"/en/job-search/data-engineer-jobs/?specialization=193\" rel=\"nofollow\" title=\"Limit results to IT-Network/Sys/DB Admin in Computer/Information Technology\">IT-Network/Sys/DB Admin</a>,\n",
       " <a class=\"_1hr6tkx5 _1hr6tkx8 _1hr6tkxb sx2jih0 sx2jihf zcydq8h\" href=\"/en/job-search/data-engineer-jobs/?job-type=full_time\" rel=\"nofollow\" title=\"Limit results to Full-Time \">Full-Time</a>,\n",
       " <a class=\"_1hr6tkx5 _1hr6tkx8 _1hr6tkxb sx2jih0 sx2jihf zcydq8h\" href=\"/en/job/data-engineer-4826529?jobId=jobstreet-my-job-4826529&amp;sectionRank=15&amp;token=0~854699e9-d9c8-475b-a2de-479d2657eaf7&amp;fr=SRP%20Job%20Listing\" rel=\"nofollow noopener noreferrer\" target=\"_top\"><div class=\"sx2jih0 l3gun70 l3gun74 l3gun72\"><span class=\"sx2jih0\">Data Engineer</span></div></a>,\n",
       " <a class=\"_1hr6tkx5 _1hr6tkx8 _1hr6tkxb sx2jih0 sx2jihf zcydq8h\" href=\"/en/job-search/data-engineer-jobs/?specialization=508\" rel=\"nofollow\" title=\"Limit results to Computer/Information Technology \">Computer/Information Technology</a>,\n",
       " <a class=\"_1hr6tkx5 _1hr6tkx8 _1hr6tkxb sx2jih0 sx2jihf zcydq8h\" href=\"/en/job-search/data-engineer-jobs/?specialization=193\" rel=\"nofollow\" title=\"Limit results to IT-Network/Sys/DB Admin in Computer/Information Technology\">IT-Network/Sys/DB Admin</a>,\n",
       " <a class=\"_1hr6tkx5 _1hr6tkx8 _1hr6tkxb sx2jih0 sx2jihf zcydq8h\" href=\"/en/job-search/data-engineer-jobs/?job-type=full_time\" rel=\"nofollow\" title=\"Limit results to Full-Time \">Full-Time</a>,\n",
       " <a class=\"_1hr6tkx5 _1hr6tkx8 _1hr6tkxb sx2jih0 sx2jihf zcydq8h\" href=\"/en/job/assistant-manager-data-engineer-compliance-amlt-remediation-4824514?jobId=jobstreet-my-job-4824514&amp;sectionRank=16&amp;token=0~854699e9-d9c8-475b-a2de-479d2657eaf7&amp;fr=SRP%20Job%20Listing\" rel=\"nofollow noopener noreferrer\" target=\"_top\"><div class=\"sx2jih0 l3gun70 l3gun74 l3gun72\"><span class=\"sx2jih0\">Assistant Manager - Data Engineer (Compliance – AMLT Remediation )</span></div></a>,\n",
       " <a class=\"_1hr6tkx5 _1hr6tkx8 _1hr6tkxb sx2jih0 sx2jihf zcydq8h\" href=\"/en/job-search/data-engineer-jobs/?specialization=501\" rel=\"nofollow\" title=\"Limit results to Accounting/Finance \">Accounting/Finance</a>,\n",
       " <a class=\"_1hr6tkx5 _1hr6tkx8 _1hr6tkxb sx2jih0 sx2jihf zcydq8h\" href=\"/en/job-search/data-engineer-jobs/?specialization=135\" rel=\"nofollow\" title=\"Limit results to Banking/Financial in Accounting/Finance\">Banking/Financial</a>,\n",
       " <a class=\"_1hr6tkx5 _1hr6tkx8 _1hr6tkxb sx2jih0 sx2jihf zcydq8h\" href=\"/en/job-search/data-engineer-jobs/?job-type=full_time\" rel=\"nofollow\" title=\"Limit results to Full-Time \">Full-Time</a>,\n",
       " <a class=\"_1hr6tkx5 _1hr6tkx8 _1hr6tkxb sx2jih0 sx2jihf zcydq8h\" href=\"/en/job/assistant-vice-president-data-engineer-compliance-amlt-remediation-4824511?jobId=jobstreet-my-job-4824511&amp;sectionRank=17&amp;token=0~854699e9-d9c8-475b-a2de-479d2657eaf7&amp;fr=SRP%20Job%20Listing\" rel=\"nofollow noopener noreferrer\" target=\"_top\"><div class=\"sx2jih0 l3gun70 l3gun74 l3gun72\"><span class=\"sx2jih0\">Assistant Vice President - Data Engineer ( Compliance - AMLT Remediation)</span></div></a>,\n",
       " <a class=\"_1hr6tkx5 _1hr6tkx8 _1hr6tkxb sx2jih0 sx2jihf zcydq8h\" href=\"/en/job-search/data-engineer-jobs/?specialization=501\" rel=\"nofollow\" title=\"Limit results to Accounting/Finance \">Accounting/Finance</a>,\n",
       " <a class=\"_1hr6tkx5 _1hr6tkx8 _1hr6tkxb sx2jih0 sx2jihf zcydq8h\" href=\"/en/job-search/data-engineer-jobs/?specialization=135\" rel=\"nofollow\" title=\"Limit results to Banking/Financial in Accounting/Finance\">Banking/Financial</a>,\n",
       " <a class=\"_1hr6tkx5 _1hr6tkx8 _1hr6tkxb sx2jih0 sx2jihf zcydq8h\" href=\"/en/job-search/data-engineer-jobs/?job-type=full_time\" rel=\"nofollow\" title=\"Limit results to Full-Time \">Full-Time</a>,\n",
       " <a class=\"_1hr6tkx5 _1hr6tkx8 _1hr6tkxb sx2jih0 sx2jihf zcydq8h\" href=\"/en/job/manager-data-engineer-4792841?jobId=jobstreet-my-job-4792841&amp;sectionRank=18&amp;token=0~854699e9-d9c8-475b-a2de-479d2657eaf7&amp;fr=SRP%20Job%20Listing\" rel=\"nofollow noopener noreferrer\" target=\"_top\"><div class=\"sx2jih0 l3gun70 l3gun74 l3gun72\"><span class=\"sx2jih0\">Manager - Data Engineer</span></div></a>,\n",
       " <a class=\"_1hr6tkx5 _1hr6tkx8 _1hr6tkxb sx2jih0 sx2jihf zcydq8h\" href=\"/en/job-search/data-engineer-jobs/?specialization=508\" rel=\"nofollow\" title=\"Limit results to Computer/Information Technology \">Computer/Information Technology</a>,\n",
       " <a class=\"_1hr6tkx5 _1hr6tkx8 _1hr6tkxb sx2jih0 sx2jihf zcydq8h\" href=\"/en/job-search/data-engineer-jobs/?specialization=191\" rel=\"nofollow\" title=\"Limit results to IT-Software in Computer/Information Technology\">IT-Software</a>,\n",
       " <a class=\"_1hr6tkx5 _1hr6tkx8 _1hr6tkxb sx2jih0 sx2jihf zcydq8h\" href=\"/en/job-search/data-engineer-jobs/?job-type=full_time\" rel=\"nofollow\" title=\"Limit results to Full-Time \">Full-Time</a>,\n",
       " <a class=\"_1hr6tkx5 _1hr6tkx8 _1hr6tkxb sx2jih0 sx2jihf zcydq8h\" href=\"/en/job/data-engineer-4824543?jobId=jobstreet-my-job-4824543&amp;sectionRank=19&amp;token=0~854699e9-d9c8-475b-a2de-479d2657eaf7&amp;fr=SRP%20Job%20Listing\" rel=\"nofollow noopener noreferrer\" target=\"_top\"><div class=\"sx2jih0 l3gun70 l3gun74 l3gun72\"><span class=\"sx2jih0\">Data Engineer</span></div></a>,\n",
       " <a class=\"_1hr6tkx5 _1hr6tkx8 _1hr6tkxb sx2jih0 sx2jihf zcydq8h\" href=\"/en/job-search/data-engineer-jobs/?specialization=508\" rel=\"nofollow\" title=\"Limit results to Computer/Information Technology \">Computer/Information Technology</a>,\n",
       " <a class=\"_1hr6tkx5 _1hr6tkx8 _1hr6tkxb sx2jih0 sx2jihf zcydq8h\" href=\"/en/job-search/data-engineer-jobs/?specialization=191\" rel=\"nofollow\" title=\"Limit results to IT-Software in Computer/Information Technology\">IT-Software</a>,\n",
       " <a class=\"_1hr6tkx5 _1hr6tkx8 _1hr6tkxb sx2jih0 sx2jihf zcydq8h\" href=\"/en/job-search/data-engineer-jobs/?job-type=full_time\" rel=\"nofollow\" title=\"Limit results to Full-Time \">Full-Time</a>,\n",
       " <a class=\"_1hr6tkx5 _1hr6tkx8 _1hr6tkxb sx2jih0 sx2jihf zcydq8h\" href=\"/en/job/data-engineer-4809824?jobId=jobstreet-my-job-4809824&amp;sectionRank=20&amp;token=0~854699e9-d9c8-475b-a2de-479d2657eaf7&amp;fr=SRP%20Job%20Listing\" rel=\"nofollow noopener noreferrer\" target=\"_top\"><div class=\"sx2jih0 l3gun70 l3gun74 l3gun72\"><span class=\"sx2jih0\">Data Engineer</span></div></a>,\n",
       " <a class=\"_1hr6tkx5 _1hr6tkx8 _1hr6tkxb sx2jih0 sx2jihf zcydq8h\" href=\"/en/job-search/data-engineer-jobs/?specialization=508\" rel=\"nofollow\" title=\"Limit results to Computer/Information Technology \">Computer/Information Technology</a>,\n",
       " <a class=\"_1hr6tkx5 _1hr6tkx8 _1hr6tkxb sx2jih0 sx2jihf zcydq8h\" href=\"/en/job-search/data-engineer-jobs/?specialization=193\" rel=\"nofollow\" title=\"Limit results to IT-Network/Sys/DB Admin in Computer/Information Technology\">IT-Network/Sys/DB Admin</a>,\n",
       " <a class=\"_1hr6tkx5 _1hr6tkx8 _1hr6tkxb sx2jih0 sx2jihf zcydq8h\" href=\"/en/job-search/data-engineer-jobs/?job-type=full_time\" rel=\"nofollow\" title=\"Limit results to Full-Time \">Full-Time</a>,\n",
       " <a class=\"_1hr6tkx5 _1hr6tkx8 _1hr6tkxb sx2jih0 sx2jihf zcydq8h\" href=\"/en/job/software-engineer-programmer-mobile-apps-developer-system-analyst-implementor-data-scientist-4827238?jobId=jobstreet-my-job-4827238&amp;sectionRank=21&amp;token=0~854699e9-d9c8-475b-a2de-479d2657eaf7&amp;fr=SRP%20Job%20Listing\" rel=\"nofollow noopener noreferrer\" target=\"_top\"><div class=\"sx2jih0 l3gun70 l3gun74 l3gun72\"><span class=\"sx2jih0\">Software Engineer/Programmer/Mobile Apps Developer/System Analyst/Implementor/Data Scientist</span></div></a>,\n",
       " <a class=\"_1hr6tkx5 _1hr6tkx8 _1hr6tkxb sx2jih0 sx2jihf zcydq8h\" href=\"/en/job-search/data-engineer-jobs/?specialization=508\" rel=\"nofollow\" title=\"Limit results to Computer/Information Technology \">Computer/Information Technology</a>,\n",
       " <a class=\"_1hr6tkx5 _1hr6tkx8 _1hr6tkxb sx2jih0 sx2jihf zcydq8h\" href=\"/en/job-search/data-engineer-jobs/?specialization=191\" rel=\"nofollow\" title=\"Limit results to IT-Software in Computer/Information Technology\">IT-Software</a>,\n",
       " <a class=\"_1hr6tkx5 _1hr6tkx8 _1hr6tkxb sx2jih0 sx2jihf zcydq8h\" href=\"/en/job-search/data-engineer-jobs/?job-type=full_time\" rel=\"nofollow\" title=\"Limit results to Full-Time \">Full-Time</a>,\n",
       " <a class=\"_1hr6tkx5 _1hr6tkx8 _1hr6tkxb sx2jih0 sx2jihf zcydq8h\" href=\"/en/job/data-engineer-4825525?jobId=jobstreet-my-job-4825525&amp;sectionRank=22&amp;token=0~854699e9-d9c8-475b-a2de-479d2657eaf7&amp;fr=SRP%20Job%20Listing\" rel=\"nofollow noopener noreferrer\" target=\"_top\"><div class=\"sx2jih0 l3gun70 l3gun74 l3gun72\"><span class=\"sx2jih0\">Data Engineer</span></div></a>,\n",
       " <a class=\"_1hr6tkx5 _1hr6tkx8 _1hr6tkxb sx2jih0 sx2jihf zcydq8h\" href=\"/en/job-search/data-engineer-jobs/?specialization=508\" rel=\"nofollow\" title=\"Limit results to Computer/Information Technology \">Computer/Information Technology</a>,\n",
       " <a class=\"_1hr6tkx5 _1hr6tkx8 _1hr6tkxb sx2jih0 sx2jihf zcydq8h\" href=\"/en/job-search/data-engineer-jobs/?specialization=191\" rel=\"nofollow\" title=\"Limit results to IT-Software in Computer/Information Technology\">IT-Software</a>,\n",
       " <a class=\"_1hr6tkx5 _1hr6tkx8 _1hr6tkxb sx2jih0 sx2jihf zcydq8h\" href=\"/en/job-search/data-engineer-jobs/?job-type=full_time\" rel=\"nofollow\" title=\"Limit results to Full-Time \">Full-Time</a>,\n",
       " <a class=\"_1hr6tkx5 _1hr6tkx8 _1hr6tkxb sx2jih0 sx2jihf zcydq8h\" href=\"/en/job/it-staff-engineer-data-lake-engineer-production-4799565?jobId=jobstreet-my-job-4799565&amp;sectionRank=23&amp;token=0~854699e9-d9c8-475b-a2de-479d2657eaf7&amp;fr=SRP%20Job%20Listing\" rel=\"nofollow noopener noreferrer\" target=\"_top\"><div class=\"sx2jih0 l3gun70 l3gun74 l3gun72\"><span class=\"sx2jih0\">IT Staff Engineer - Data Lake Engineer (Production)</span></div></a>,\n",
       " <a class=\"_1hr6tkx5 _1hr6tkx8 _1hr6tkxb sx2jih0 sx2jihf zcydq8h\" href=\"/en/job-search/data-engineer-jobs/?specialization=508\" rel=\"nofollow\" title=\"Limit results to Computer/Information Technology \">Computer/Information Technology</a>,\n",
       " <a class=\"_1hr6tkx5 _1hr6tkx8 _1hr6tkxb sx2jih0 sx2jihf zcydq8h\" href=\"/en/job-search/data-engineer-jobs/?specialization=191\" rel=\"nofollow\" title=\"Limit results to IT-Software in Computer/Information Technology\">IT-Software</a>,\n",
       " <a class=\"_1hr6tkx5 _1hr6tkx8 _1hr6tkxb sx2jih0 sx2jihf zcydq8h\" href=\"/en/job-search/data-engineer-jobs/?job-type=full_time\" rel=\"nofollow\" title=\"Limit results to Full-Time \">Full-Time</a>,\n",
       " <a class=\"_1hr6tkx5 _1hr6tkx8 _1hr6tkxb sx2jih0 sx2jihf zcydq8h\" href=\"/en/job/data-scientist-4831428?jobId=jobstreet-my-job-4831428&amp;sectionRank=24&amp;token=0~854699e9-d9c8-475b-a2de-479d2657eaf7&amp;fr=SRP%20Job%20Listing\" rel=\"nofollow noopener noreferrer\" target=\"_top\"><div class=\"sx2jih0 l3gun70 l3gun74 l3gun72\"><span class=\"sx2jih0\">Data Scientist</span></div></a>,\n",
       " <a class=\"_1hr6tkx5 _1hr6tkx8 _1hr6tkxb sx2jih0 sx2jihf zcydq8h\" href=\"/en/job-search/data-engineer-jobs/?specialization=508\" rel=\"nofollow\" title=\"Limit results to Computer/Information Technology \">Computer/Information Technology</a>,\n",
       " <a class=\"_1hr6tkx5 _1hr6tkx8 _1hr6tkxb sx2jih0 sx2jihf zcydq8h\" href=\"/en/job-search/data-engineer-jobs/?specialization=191\" rel=\"nofollow\" title=\"Limit results to IT-Software in Computer/Information Technology\">IT-Software</a>,\n",
       " <a class=\"_1hr6tkx5 _1hr6tkx8 _1hr6tkxb sx2jih0 sx2jihf zcydq8h\" href=\"/en/job-search/data-engineer-jobs/?job-type=full_time\" rel=\"nofollow\" title=\"Limit results to Full-Time \">Full-Time</a>,\n",
       " <a class=\"_1hr6tkx5 _1hr6tkx8 _1hr6tkxb sx2jih0 sx2jihf zcydq8h\" href=\"/en/job/big-data-engineer-real-time-4821304?jobId=jobstreet-my-job-4821304&amp;sectionRank=25&amp;token=0~854699e9-d9c8-475b-a2de-479d2657eaf7&amp;fr=SRP%20Job%20Listing\" rel=\"nofollow noopener noreferrer\" target=\"_top\"><div class=\"sx2jih0 l3gun70 l3gun74 l3gun72\"><span class=\"sx2jih0\">Big Data Engineer (Real-Time)</span></div></a>,\n",
       " <a class=\"_1hr6tkx5 _1hr6tkx8 _1hr6tkxb sx2jih0 sx2jihf zcydq8h\" href=\"/en/job-search/data-engineer-jobs/?specialization=501\" rel=\"nofollow\" title=\"Limit results to Accounting/Finance \">Accounting/Finance</a>,\n",
       " <a class=\"_1hr6tkx5 _1hr6tkx8 _1hr6tkxb sx2jih0 sx2jihf zcydq8h\" href=\"/en/job-search/data-engineer-jobs/?specialization=135\" rel=\"nofollow\" title=\"Limit results to Banking/Financial in Accounting/Finance\">Banking/Financial</a>,\n",
       " <a class=\"_1hr6tkx5 _1hr6tkx8 _1hr6tkxb sx2jih0 sx2jihf zcydq8h\" href=\"/en/job-search/data-engineer-jobs/?job-type=full_time\" rel=\"nofollow\" title=\"Limit results to Full-Time \">Full-Time</a>,\n",
       " <a class=\"_1hr6tkx5 _1hr6tkx8 _1hr6tkxb sx2jih0 sx2jihf zcydq8h\" href=\"/en/job/data-architect-4818529?jobId=jobstreet-my-job-4818529&amp;sectionRank=26&amp;token=0~854699e9-d9c8-475b-a2de-479d2657eaf7&amp;fr=SRP%20Job%20Listing\" rel=\"nofollow noopener noreferrer\" target=\"_top\"><div class=\"sx2jih0 l3gun70 l3gun74 l3gun72\"><span class=\"sx2jih0\">Data Architect</span></div></a>,\n",
       " <a class=\"_1hr6tkx5 _1hr6tkx8 _1hr6tkxb sx2jih0 sx2jihf zcydq8h\" href=\"/en/job-search/data-engineer-jobs/?specialization=508\" rel=\"nofollow\" title=\"Limit results to Computer/Information Technology \">Computer/Information Technology</a>,\n",
       " <a class=\"_1hr6tkx5 _1hr6tkx8 _1hr6tkxb sx2jih0 sx2jihf zcydq8h\" href=\"/en/job-search/data-engineer-jobs/?specialization=191\" rel=\"nofollow\" title=\"Limit results to IT-Software in Computer/Information Technology\">IT-Software</a>,\n",
       " <a class=\"_1hr6tkx5 _1hr6tkx8 _1hr6tkxb sx2jih0 sx2jihf zcydq8h\" href=\"/en/job-search/data-engineer-jobs/?job-type=full_time\" rel=\"nofollow\" title=\"Limit results to Full-Time \">Full-Time</a>,\n",
       " <a class=\"_1hr6tkx5 _1hr6tkx8 _1hr6tkxb sx2jih0 sx2jihf zcydq8h\" href=\"/en/job/python-developer-4816100?jobId=jobstreet-my-job-4816100&amp;sectionRank=27&amp;token=0~854699e9-d9c8-475b-a2de-479d2657eaf7&amp;fr=SRP%20Job%20Listing\" rel=\"nofollow noopener noreferrer\" target=\"_top\"><div class=\"sx2jih0 l3gun70 l3gun74 l3gun72\"><span class=\"sx2jih0\">Python Developer</span></div></a>,\n",
       " <a class=\"_1hr6tkx5 _1hr6tkx8 _1hr6tkxb sx2jih0 sx2jihf zcydq8h\" href=\"/en/job-search/data-engineer-jobs/?specialization=508\" rel=\"nofollow\" title=\"Limit results to Computer/Information Technology \">Computer/Information Technology</a>,\n",
       " <a class=\"_1hr6tkx5 _1hr6tkx8 _1hr6tkxb sx2jih0 sx2jihf zcydq8h\" href=\"/en/job-search/data-engineer-jobs/?specialization=191\" rel=\"nofollow\" title=\"Limit results to IT-Software in Computer/Information Technology\">IT-Software</a>,\n",
       " <a class=\"_1hr6tkx5 _1hr6tkx8 _1hr6tkxb sx2jih0 sx2jihf zcydq8h\" href=\"/en/job-search/data-engineer-jobs/?job-type=full_time\" rel=\"nofollow\" title=\"Limit results to Full-Time \">Full-Time</a>,\n",
       " <a class=\"_1hr6tkx5 _1hr6tkx8 _1hr6tkxb sx2jih0 sx2jihf zcydq8h\" href=\"/en/job/big-data-analytics-developer-4828052?jobId=jobstreet-my-job-4828052&amp;sectionRank=28&amp;token=0~854699e9-d9c8-475b-a2de-479d2657eaf7&amp;fr=SRP%20Job%20Listing\" rel=\"nofollow noopener noreferrer\" target=\"_top\"><div class=\"sx2jih0 l3gun70 l3gun74 l3gun72\"><span class=\"sx2jih0\">Big Data &amp; Analytics Developer</span></div></a>,\n",
       " <a class=\"_1hr6tkx5 _1hr6tkx8 _1hr6tkxb sx2jih0 sx2jihf zcydq8h\" href=\"/en/job-search/data-engineer-jobs/?specialization=508\" rel=\"nofollow\" title=\"Limit results to Computer/Information Technology \">Computer/Information Technology</a>,\n",
       " <a class=\"_1hr6tkx5 _1hr6tkx8 _1hr6tkxb sx2jih0 sx2jihf zcydq8h\" href=\"/en/job-search/data-engineer-jobs/?specialization=191\" rel=\"nofollow\" title=\"Limit results to IT-Software in Computer/Information Technology\">IT-Software</a>,\n",
       " <a class=\"_1hr6tkx5 _1hr6tkx8 _1hr6tkxb sx2jih0 sx2jihf zcydq8h\" href=\"/en/job-search/data-engineer-jobs/?job-type=full_time\" rel=\"nofollow\" title=\"Limit results to Full-Time \">Full-Time</a>,\n",
       " <a class=\"_1hr6tkx5 _1hr6tkx8 _1hr6tkxb sx2jih0 sx2jihf zcydq8h\" href=\"/en/job/data-quality-engineer-sql-incorta-visualization-42945-4827200?jobId=jobstreet-my-job-4827200&amp;sectionRank=29&amp;token=0~854699e9-d9c8-475b-a2de-479d2657eaf7&amp;fr=SRP%20Job%20Listing\" rel=\"nofollow noopener noreferrer\" target=\"_top\"><div class=\"sx2jih0 l3gun70 l3gun74 l3gun72\"><span class=\"sx2jih0\">Data Quality Engineer (SQL, Incorta Visualization) - 42945</span></div></a>,\n",
       " <a class=\"_1hr6tkx5 _1hr6tkx8 _1hr6tkxb sx2jih0 sx2jihf zcydq8h\" href=\"/en/job-search/data-engineer-jobs/?specialization=508\" rel=\"nofollow\" title=\"Limit results to Computer/Information Technology \">Computer/Information Technology</a>,\n",
       " <a class=\"_1hr6tkx5 _1hr6tkx8 _1hr6tkxb sx2jih0 sx2jihf zcydq8h\" href=\"/en/job-search/data-engineer-jobs/?specialization=193\" rel=\"nofollow\" title=\"Limit results to IT-Network/Sys/DB Admin in Computer/Information Technology\">IT-Network/Sys/DB Admin</a>,\n",
       " <a class=\"_1hr6tkx5 _1hr6tkx8 _1hr6tkxb sx2jih0 sx2jihf zcydq8h\" href=\"/en/job-search/data-engineer-jobs/?job-type=full_time\" rel=\"nofollow\" title=\"Limit results to Full-Time \">Full-Time</a>,\n",
       " <a class=\"_1hr6tkx5 _1hr6tkx8 _1hr6tkxb sx2jih0 sx2jihf zcydq8h\" href=\"/en/job/data-engineer-4819369?jobId=jobstreet-my-job-4819369&amp;sectionRank=30&amp;token=0~854699e9-d9c8-475b-a2de-479d2657eaf7&amp;fr=SRP%20Job%20Listing\" rel=\"nofollow noopener noreferrer\" target=\"_top\"><div class=\"sx2jih0 l3gun70 l3gun74 l3gun72\"><span class=\"sx2jih0\">Data Engineer</span></div></a>,\n",
       " <a class=\"_1hr6tkx5 _1hr6tkx8 _1hr6tkxb sx2jih0 sx2jihf zcydq8h\" href=\"/en/job-search/data-engineer-jobs/?specialization=508\" rel=\"nofollow\" title=\"Limit results to Computer/Information Technology \">Computer/Information Technology</a>,\n",
       " <a class=\"_1hr6tkx5 _1hr6tkx8 _1hr6tkxb sx2jih0 sx2jihf zcydq8h\" href=\"/en/job-search/data-engineer-jobs/?specialization=191\" rel=\"nofollow\" title=\"Limit results to IT-Software in Computer/Information Technology\">IT-Software</a>,\n",
       " <a class=\"_1hr6tkx5 _1hr6tkx8 _1hr6tkxb sx2jih0 sx2jihf zcydq8h\" href=\"/en/job-search/data-engineer-jobs/?job-type=full_time\" rel=\"nofollow\" title=\"Limit results to Full-Time \">Full-Time</a>]"
      ]
     },
     "execution_count": 25,
     "metadata": {},
     "output_type": "execute_result"
    }
   ],
   "source": [
    "jobs"
   ]
  }
 ],
 "metadata": {
  "interpreter": {
   "hash": "cadcdcb536bf306a94042e6d3e2806f549212ffab4cd86c3d91066de65a7cf2b"
  },
  "kernelspec": {
   "display_name": "Python 3.9.7 ('forwardSchool')",
   "language": "python",
   "name": "python3"
  },
  "language_info": {
   "codemirror_mode": {
    "name": "ipython",
    "version": 3
   },
   "file_extension": ".py",
   "mimetype": "text/x-python",
   "name": "python",
   "nbconvert_exporter": "python",
   "pygments_lexer": "ipython3",
   "version": "3.9.7"
  },
  "orig_nbformat": 4
 },
 "nbformat": 4,
 "nbformat_minor": 2
}
