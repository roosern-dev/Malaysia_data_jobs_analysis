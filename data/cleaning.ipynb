{
 "cells": [
  {
   "cell_type": "markdown",
   "metadata": {},
   "source": [
    "# Cleaning Data"
   ]
  },
  {
   "cell_type": "code",
   "execution_count": 207,
   "metadata": {},
   "outputs": [],
   "source": [
    "import time\n",
    "#from selenium import webdriver\n",
    "from bs4 import BeautifulSoup\n",
    "#from webdriver_manager.chrome import ChromeDriverManager\n",
    "from bs4 import BeautifulSoup\n",
    "import requests\n",
    "import re\n",
    "import os\n",
    "from lxml import etree\n",
    "import lxml.html, lxml.html.clean\n",
    "from urllib.parse import urlparse\n",
    "from urllib.parse import parse_qs\n",
    "import pandas as pd\n",
    "from itertools import product\n",
    "import time\n",
    "import regex\n",
    "import numpy as np\n",
    "\n",
    "#driver = webdriver.Chrome(ChromeDriverManager().install())\n",
    "verbose_flag = True\n",
    "# htmlSource = driver.page_source\n",
    "\n",
    "pd.set_option('display.max_rows', None)\n",
    "pd.set_option('display.max_columns', None)\n",
    "pd.set_option('display.width', None)"
   ]
  },
  {
   "cell_type": "markdown",
   "metadata": {},
   "source": [
    "### Load data\n"
   ]
  },
  {
   "cell_type": "code",
   "execution_count": 208,
   "metadata": {},
   "outputs": [],
   "source": [
    "path_data_scientist = r\"C:\\Users\\RSYeo\\Projects\\data\\data_scientist_2022_03_03.ftr\"\n",
    "path_data_engineer =r\"C:\\Users\\RSYeo\\Projects\\data\\data_engineer_2022_03_03.ftr\"\n",
    "path_data_analyst = r\"C:\\Users\\RSYeo\\Projects\\data\\data_analyst_2022_03_03.ftr\"\n",
    "\n",
    "\n",
    "files = [path_data_scientist, path_data_engineer, path_data_analyst]"
   ]
  },
  {
   "cell_type": "code",
   "execution_count": 209,
   "metadata": {},
   "outputs": [],
   "source": [
    "df_data_careers = None\n",
    "\n",
    "start = True\n",
    "for file_path in files:\n",
    "    df_read = pd.read_feather(file_path)\n",
    "\n",
    "    if(start):\n",
    "        df_data_careers = df_read.copy()\n",
    "        start = False\n",
    "\n",
    "    else:\n",
    "        df_data_careers = pd.concat([df_data_careers, df_read])\n",
    "\n",
    "df_data_careers.reset_index(drop=True, inplace=True)\n",
    "        \n"
   ]
  },
  {
   "cell_type": "markdown",
   "metadata": {},
   "source": [
    "### Start cleaning data"
   ]
  },
  {
   "cell_type": "markdown",
   "metadata": {},
   "source": [
    "#### Format ID"
   ]
  },
  {
   "cell_type": "code",
   "execution_count": 210,
   "metadata": {},
   "outputs": [],
   "source": [
    "# Format job id to be numerical\n",
    "df_data_careers['job_id'] = df_data_careers.job_id.astype('str').str.extract(\"(\\d+)\")"
   ]
  },
  {
   "cell_type": "code",
   "execution_count": 211,
   "metadata": {},
   "outputs": [
    {
     "data": {
      "text/plain": [
       "7851"
      ]
     },
     "execution_count": 211,
     "metadata": {},
     "output_type": "execute_result"
    }
   ],
   "source": [
    "df_data_careers.job_id.nunique()"
   ]
  },
  {
   "cell_type": "code",
   "execution_count": 212,
   "metadata": {},
   "outputs": [],
   "source": [
    "df_data_careers['job_title'] = df_data_careers['job_title'].str.lower()"
   ]
  },
  {
   "cell_type": "markdown",
   "metadata": {},
   "source": [
    "#### Drop non-unique jobs"
   ]
  },
  {
   "cell_type": "code",
   "execution_count": 213,
   "metadata": {},
   "outputs": [],
   "source": [
    "df_data_careers.drop_duplicates(keep='first', subset=['job_id'], inplace=True)"
   ]
  },
  {
   "cell_type": "markdown",
   "metadata": {},
   "source": [
    "#### Format salary range"
   ]
  },
  {
   "cell_type": "code",
   "execution_count": 214,
   "metadata": {},
   "outputs": [],
   "source": [
    "#replace wrong values with nan\n",
    "df_data_careers.loc[df_data_careers['salary_range'].str.contains('Posted'), 'salary_range'] = np.nan"
   ]
  },
  {
   "cell_type": "code",
   "execution_count": 215,
   "metadata": {},
   "outputs": [],
   "source": [
    "#clean MYR\n",
    "df_malaysian_salary = df_data_careers.loc[~df_data_careers['salary_range'].isnull() & df_data_careers['salary_range'].str.contains('MYR'), :]\n"
   ]
  },
  {
   "cell_type": "code",
   "execution_count": 216,
   "metadata": {},
   "outputs": [
    {
     "data": {
      "text/html": [
       "<div>\n",
       "<style scoped>\n",
       "    .dataframe tbody tr th:only-of-type {\n",
       "        vertical-align: middle;\n",
       "    }\n",
       "\n",
       "    .dataframe tbody tr th {\n",
       "        vertical-align: top;\n",
       "    }\n",
       "\n",
       "    .dataframe thead th {\n",
       "        text-align: right;\n",
       "    }\n",
       "</style>\n",
       "<table border=\"1\" class=\"dataframe\">\n",
       "  <thead>\n",
       "    <tr style=\"text-align: right;\">\n",
       "      <th></th>\n",
       "      <th>job_id</th>\n",
       "      <th>job_title</th>\n",
       "      <th>salary_range</th>\n",
       "      <th>job_description</th>\n",
       "      <th>job_level</th>\n",
       "      <th>experience</th>\n",
       "      <th>job_type</th>\n",
       "      <th>qualifications</th>\n",
       "      <th>job_specialization</th>\n",
       "      <th>company_name</th>\n",
       "      <th>company_registration</th>\n",
       "      <th>company_size</th>\n",
       "      <th>company_industry</th>\n",
       "      <th>job_link</th>\n",
       "      <th>search_term</th>\n",
       "      <th>state</th>\n",
       "    </tr>\n",
       "  </thead>\n",
       "  <tbody>\n",
       "    <tr>\n",
       "      <th>2</th>\n",
       "      <td>4832121</td>\n",
       "      <td>sql database administrator (数据库管理员)</td>\n",
       "      <td>MYR 15,000 - MYR 25,000</td>\n",
       "      <td>Job DescriptionJob Requirements: Must speak, r...</td>\n",
       "      <td>Senior Executive</td>\n",
       "      <td>3 years</td>\n",
       "      <td>Full-Time</td>\n",
       "      <td>Bachelor's Degree, Post Graduate Diploma, Prof...</td>\n",
       "      <td>Computer/Information Technology, IT-Network/Sy...</td>\n",
       "      <td>Morivy Data and Technology Inc.</td>\n",
       "      <td>None</td>\n",
       "      <td>1 - 50 Employees</td>\n",
       "      <td>Computer / Information Technology (Software)</td>\n",
       "      <td>/en/job/sql-database-administrator-%E6%95%B0%E...</td>\n",
       "      <td>data scientist</td>\n",
       "      <td>negeri-sembilan</td>\n",
       "    </tr>\n",
       "    <tr>\n",
       "      <th>3</th>\n",
       "      <td>4839272</td>\n",
       "      <td>software engineer</td>\n",
       "      <td>MYR 3,000 - MYR 4,200</td>\n",
       "      <td>Job Description QualificationDegree or higher ...</td>\n",
       "      <td>Junior Executive</td>\n",
       "      <td>2 years</td>\n",
       "      <td>Full-Time</td>\n",
       "      <td>Not Specified</td>\n",
       "      <td>Computer/Information Technology, IT-Software</td>\n",
       "      <td>TAIACE ENERGY SDN BHD</td>\n",
       "      <td>1006041-X</td>\n",
       "      <td>1 - 50 Employees</td>\n",
       "      <td>Environment/Health/Safety</td>\n",
       "      <td>/en/job/software-engineer-4839272?jobId=jobstr...</td>\n",
       "      <td>data scientist</td>\n",
       "      <td>negeri-sembilan</td>\n",
       "    </tr>\n",
       "    <tr>\n",
       "      <th>4</th>\n",
       "      <td>4852008</td>\n",
       "      <td>manufacturing engineer- fresh graduates (1 yea...</td>\n",
       "      <td>MYR 3,000 - MYR 3,500</td>\n",
       "      <td>Job HighlightsCareer AdvancementDaily Meal All...</td>\n",
       "      <td>Entry Level</td>\n",
       "      <td>None</td>\n",
       "      <td>Full-Time</td>\n",
       "      <td>Bachelor's Degree, Post Graduate Diploma, Prof...</td>\n",
       "      <td>Engineering, Electrical, Mechanical</td>\n",
       "      <td>Plexus Manufacturing Sdn Bhd</td>\n",
       "      <td>399136-M</td>\n",
       "      <td>More than 5000 Employees</td>\n",
       "      <td>Electrical &amp; Electronics</td>\n",
       "      <td>/en/job/manufacturing-engineer-fresh-graduates...</td>\n",
       "      <td>data scientist</td>\n",
       "      <td>negeri-sembilan</td>\n",
       "    </tr>\n",
       "    <tr>\n",
       "      <th>7</th>\n",
       "      <td>4819995</td>\n",
       "      <td>system support executive</td>\n",
       "      <td>MYR 1,500 - MYR 2,000</td>\n",
       "      <td>Job DescriptionSystem Support ExecutiveDeliver...</td>\n",
       "      <td>Junior Executive</td>\n",
       "      <td>2 years</td>\n",
       "      <td>Full-Time</td>\n",
       "      <td>Not Specified</td>\n",
       "      <td>Computer/Information Technology, IT-Software</td>\n",
       "      <td>Infomax Supplies</td>\n",
       "      <td>001423432-A</td>\n",
       "      <td>1 - 50 Employees</td>\n",
       "      <td>Computer/Information Technology (Hardware)</td>\n",
       "      <td>/en/job/system-support-executive-4819995?jobId...</td>\n",
       "      <td>data scientist</td>\n",
       "      <td>negeri-sembilan</td>\n",
       "    </tr>\n",
       "    <tr>\n",
       "      <th>8</th>\n",
       "      <td>4831057</td>\n",
       "      <td>junior chemist product development laboratory</td>\n",
       "      <td>MYR 2,500 - MYR 3,300</td>\n",
       "      <td>Job Highlights5-day weekProgressive working en...</td>\n",
       "      <td>Junior Executive</td>\n",
       "      <td>2 years</td>\n",
       "      <td>Full-Time</td>\n",
       "      <td>Professional Certificate, Diploma, Advanced/Hi...</td>\n",
       "      <td>Sciences, Chemistry</td>\n",
       "      <td>MAPEI MALAYSIA SDN BHD</td>\n",
       "      <td>231780-K</td>\n",
       "      <td>51 - 200 Employees</td>\n",
       "      <td>Manufacturing / Production</td>\n",
       "      <td>/en/job/junior-chemist-product-development-lab...</td>\n",
       "      <td>data scientist</td>\n",
       "      <td>negeri-sembilan</td>\n",
       "    </tr>\n",
       "  </tbody>\n",
       "</table>\n",
       "</div>"
      ],
      "text/plain": [
       "    job_id                                          job_title  \\\n",
       "2  4832121                sql database administrator (数据库管理员)   \n",
       "3  4839272                                  software engineer   \n",
       "4  4852008  manufacturing engineer- fresh graduates (1 yea...   \n",
       "7  4819995                           system support executive   \n",
       "8  4831057      junior chemist product development laboratory   \n",
       "\n",
       "              salary_range                                    job_description  \\\n",
       "2  MYR 15,000 - MYR 25,000  Job DescriptionJob Requirements: Must speak, r...   \n",
       "3    MYR 3,000 - MYR 4,200  Job Description QualificationDegree or higher ...   \n",
       "4    MYR 3,000 - MYR 3,500  Job HighlightsCareer AdvancementDaily Meal All...   \n",
       "7    MYR 1,500 - MYR 2,000  Job DescriptionSystem Support ExecutiveDeliver...   \n",
       "8    MYR 2,500 - MYR 3,300  Job Highlights5-day weekProgressive working en...   \n",
       "\n",
       "          job_level experience   job_type  \\\n",
       "2  Senior Executive    3 years  Full-Time   \n",
       "3  Junior Executive    2 years  Full-Time   \n",
       "4       Entry Level       None  Full-Time   \n",
       "7  Junior Executive    2 years  Full-Time   \n",
       "8  Junior Executive    2 years  Full-Time   \n",
       "\n",
       "                                      qualifications  \\\n",
       "2  Bachelor's Degree, Post Graduate Diploma, Prof...   \n",
       "3                                      Not Specified   \n",
       "4  Bachelor's Degree, Post Graduate Diploma, Prof...   \n",
       "7                                      Not Specified   \n",
       "8  Professional Certificate, Diploma, Advanced/Hi...   \n",
       "\n",
       "                                  job_specialization  \\\n",
       "2  Computer/Information Technology, IT-Network/Sy...   \n",
       "3       Computer/Information Technology, IT-Software   \n",
       "4                Engineering, Electrical, Mechanical   \n",
       "7       Computer/Information Technology, IT-Software   \n",
       "8                                Sciences, Chemistry   \n",
       "\n",
       "                      company_name company_registration  \\\n",
       "2  Morivy Data and Technology Inc.                 None   \n",
       "3            TAIACE ENERGY SDN BHD            1006041-X   \n",
       "4     Plexus Manufacturing Sdn Bhd             399136-M   \n",
       "7                 Infomax Supplies          001423432-A   \n",
       "8           MAPEI MALAYSIA SDN BHD             231780-K   \n",
       "\n",
       "               company_size                              company_industry  \\\n",
       "2          1 - 50 Employees  Computer / Information Technology (Software)   \n",
       "3          1 - 50 Employees                     Environment/Health/Safety   \n",
       "4  More than 5000 Employees                      Electrical & Electronics   \n",
       "7          1 - 50 Employees    Computer/Information Technology (Hardware)   \n",
       "8        51 - 200 Employees                    Manufacturing / Production   \n",
       "\n",
       "                                            job_link     search_term  \\\n",
       "2  /en/job/sql-database-administrator-%E6%95%B0%E...  data scientist   \n",
       "3  /en/job/software-engineer-4839272?jobId=jobstr...  data scientist   \n",
       "4  /en/job/manufacturing-engineer-fresh-graduates...  data scientist   \n",
       "7  /en/job/system-support-executive-4819995?jobId...  data scientist   \n",
       "8  /en/job/junior-chemist-product-development-lab...  data scientist   \n",
       "\n",
       "             state  \n",
       "2  negeri-sembilan  \n",
       "3  negeri-sembilan  \n",
       "4  negeri-sembilan  \n",
       "7  negeri-sembilan  \n",
       "8  negeri-sembilan  "
      ]
     },
     "execution_count": 216,
     "metadata": {},
     "output_type": "execute_result"
    }
   ],
   "source": [
    "df_malaysian_salary.head()"
   ]
  },
  {
   "cell_type": "code",
   "execution_count": 217,
   "metadata": {},
   "outputs": [],
   "source": [
    "extracted_salary = df_malaysian_salary['salary_range'].str.findall(\"(\\d+,\\d+)\")"
   ]
  },
  {
   "cell_type": "code",
   "execution_count": 218,
   "metadata": {},
   "outputs": [
    {
     "name": "stderr",
     "output_type": "stream",
     "text": [
      "C:\\Users\\RSYeo\\AppData\\Local\\Temp\\ipykernel_17104\\4207735271.py:1: SettingWithCopyWarning: \n",
      "A value is trying to be set on a copy of a slice from a DataFrame.\n",
      "Try using .loc[row_indexer,col_indexer] = value instead\n",
      "\n",
      "See the caveats in the documentation: https://pandas.pydata.org/pandas-docs/stable/user_guide/indexing.html#returning-a-view-versus-a-copy\n",
      "  df_malaysian_salary.loc[:,'start_salary_range'] = extracted_salary.str[0]\n",
      "C:\\Users\\RSYeo\\AppData\\Local\\Temp\\ipykernel_17104\\4207735271.py:2: SettingWithCopyWarning: \n",
      "A value is trying to be set on a copy of a slice from a DataFrame.\n",
      "Try using .loc[row_indexer,col_indexer] = value instead\n",
      "\n",
      "See the caveats in the documentation: https://pandas.pydata.org/pandas-docs/stable/user_guide/indexing.html#returning-a-view-versus-a-copy\n",
      "  df_malaysian_salary.loc[:,'end_salary_range'] = extracted_salary.str[1]\n"
     ]
    }
   ],
   "source": [
    "df_malaysian_salary.loc[:,'start_salary_range'] = extracted_salary.str[0]\n",
    "df_malaysian_salary.loc[:,'end_salary_range'] = extracted_salary.str[1]"
   ]
  },
  {
   "cell_type": "code",
   "execution_count": 219,
   "metadata": {},
   "outputs": [
    {
     "name": "stderr",
     "output_type": "stream",
     "text": [
      "C:\\Users\\RSYeo\\AppData\\Local\\Temp\\ipykernel_17104\\2981404410.py:1: SettingWithCopyWarning: \n",
      "A value is trying to be set on a copy of a slice from a DataFrame.\n",
      "Try using .loc[row_indexer,col_indexer] = value instead\n",
      "\n",
      "See the caveats in the documentation: https://pandas.pydata.org/pandas-docs/stable/user_guide/indexing.html#returning-a-view-versus-a-copy\n",
      "  df_malaysian_salary['start_salary_range'] = df_malaysian_salary['start_salary_range'].str.replace(',','')\n",
      "C:\\Users\\RSYeo\\AppData\\Local\\Temp\\ipykernel_17104\\2981404410.py:2: SettingWithCopyWarning: \n",
      "A value is trying to be set on a copy of a slice from a DataFrame.\n",
      "Try using .loc[row_indexer,col_indexer] = value instead\n",
      "\n",
      "See the caveats in the documentation: https://pandas.pydata.org/pandas-docs/stable/user_guide/indexing.html#returning-a-view-versus-a-copy\n",
      "  df_malaysian_salary.loc[:,'end_salary_range'] = df_malaysian_salary.loc[:,'end_salary_range'].str.replace(',','')\n"
     ]
    }
   ],
   "source": [
    "df_malaysian_salary['start_salary_range'] = df_malaysian_salary['start_salary_range'].str.replace(',','')\n",
    "df_malaysian_salary.loc[:,'end_salary_range'] = df_malaysian_salary.loc[:,'end_salary_range'].str.replace(',','')"
   ]
  },
  {
   "cell_type": "code",
   "execution_count": 220,
   "metadata": {},
   "outputs": [
    {
     "name": "stderr",
     "output_type": "stream",
     "text": [
      "C:\\Users\\RSYeo\\AppData\\Local\\Temp\\ipykernel_17104\\445547010.py:1: SettingWithCopyWarning: \n",
      "A value is trying to be set on a copy of a slice from a DataFrame.\n",
      "Try using .loc[row_indexer,col_indexer] = value instead\n",
      "\n",
      "See the caveats in the documentation: https://pandas.pydata.org/pandas-docs/stable/user_guide/indexing.html#returning-a-view-versus-a-copy\n",
      "  df_malaysian_salary['start_salary_range'] = df_malaysian_salary['start_salary_range'].astype(float)\n",
      "C:\\Users\\RSYeo\\AppData\\Local\\Temp\\ipykernel_17104\\445547010.py:2: SettingWithCopyWarning: \n",
      "A value is trying to be set on a copy of a slice from a DataFrame.\n",
      "Try using .loc[row_indexer,col_indexer] = value instead\n",
      "\n",
      "See the caveats in the documentation: https://pandas.pydata.org/pandas-docs/stable/user_guide/indexing.html#returning-a-view-versus-a-copy\n",
      "  df_malaysian_salary['end_salary_range'] = df_malaysian_salary['end_salary_range'].astype(float)\n"
     ]
    }
   ],
   "source": [
    "df_malaysian_salary['start_salary_range'] = df_malaysian_salary['start_salary_range'].astype(float)\n",
    "df_malaysian_salary['end_salary_range'] = df_malaysian_salary['end_salary_range'].astype(float)"
   ]
  },
  {
   "cell_type": "code",
   "execution_count": 221,
   "metadata": {},
   "outputs": [
    {
     "data": {
      "text/plain": [
       "(1565, 18)"
      ]
     },
     "execution_count": 221,
     "metadata": {},
     "output_type": "execute_result"
    }
   ],
   "source": [
    "df_malaysian_salary.shape"
   ]
  },
  {
   "cell_type": "code",
   "execution_count": 222,
   "metadata": {},
   "outputs": [],
   "source": [
    "currencies = df_data_careers['salary_range'].str[:3]"
   ]
  },
  {
   "cell_type": "code",
   "execution_count": 223,
   "metadata": {},
   "outputs": [
    {
     "data": {
      "text/plain": [
       "MYR    1565\n",
       "SGD       3\n",
       "HKD       1\n",
       "Name: salary_range, dtype: int64"
      ]
     },
     "execution_count": 223,
     "metadata": {},
     "output_type": "execute_result"
    }
   ],
   "source": [
    "currencies.value_counts()"
   ]
  },
  {
   "cell_type": "code",
   "execution_count": 224,
   "metadata": {},
   "outputs": [
    {
     "name": "stderr",
     "output_type": "stream",
     "text": [
      "C:\\Users\\RSYeo\\AppData\\Local\\Temp\\ipykernel_17104\\2162059839.py:4: SettingWithCopyWarning: \n",
      "A value is trying to be set on a copy of a slice from a DataFrame.\n",
      "Try using .loc[row_indexer,col_indexer] = value instead\n",
      "\n",
      "See the caveats in the documentation: https://pandas.pydata.org/pandas-docs/stable/user_guide/indexing.html#returning-a-view-versus-a-copy\n",
      "  df_singaporean_salary.loc[:,'start_salary_range'] = extracted_salary_SGD.str[0]\n",
      "C:\\Users\\RSYeo\\AppData\\Local\\Temp\\ipykernel_17104\\2162059839.py:5: SettingWithCopyWarning: \n",
      "A value is trying to be set on a copy of a slice from a DataFrame.\n",
      "Try using .loc[row_indexer,col_indexer] = value instead\n",
      "\n",
      "See the caveats in the documentation: https://pandas.pydata.org/pandas-docs/stable/user_guide/indexing.html#returning-a-view-versus-a-copy\n",
      "  df_singaporean_salary.loc[:,'end_salary_range'] = extracted_salary_SGD.str[1]\n",
      "C:\\Users\\RSYeo\\AppData\\Local\\Temp\\ipykernel_17104\\2162059839.py:6: SettingWithCopyWarning: \n",
      "A value is trying to be set on a copy of a slice from a DataFrame.\n",
      "Try using .loc[row_indexer,col_indexer] = value instead\n",
      "\n",
      "See the caveats in the documentation: https://pandas.pydata.org/pandas-docs/stable/user_guide/indexing.html#returning-a-view-versus-a-copy\n",
      "  df_singaporean_salary['start_salary_range'] = df_singaporean_salary['start_salary_range'].str.replace(',','')\n",
      "C:\\Users\\RSYeo\\AppData\\Local\\Temp\\ipykernel_17104\\2162059839.py:7: SettingWithCopyWarning: \n",
      "A value is trying to be set on a copy of a slice from a DataFrame.\n",
      "Try using .loc[row_indexer,col_indexer] = value instead\n",
      "\n",
      "See the caveats in the documentation: https://pandas.pydata.org/pandas-docs/stable/user_guide/indexing.html#returning-a-view-versus-a-copy\n",
      "  df_singaporean_salary.loc[:,'end_salary_range'] = df_singaporean_salary.loc[:,'end_salary_range'].str.replace(',','')\n",
      "C:\\Users\\RSYeo\\AppData\\Local\\Temp\\ipykernel_17104\\2162059839.py:11: SettingWithCopyWarning: \n",
      "A value is trying to be set on a copy of a slice from a DataFrame.\n",
      "Try using .loc[row_indexer,col_indexer] = value instead\n",
      "\n",
      "See the caveats in the documentation: https://pandas.pydata.org/pandas-docs/stable/user_guide/indexing.html#returning-a-view-versus-a-copy\n",
      "  df_singaporean_salary['start_salary_range'] = df_singaporean_salary['start_salary_range'].astype(float)*3.08\n",
      "C:\\Users\\RSYeo\\AppData\\Local\\Temp\\ipykernel_17104\\2162059839.py:12: SettingWithCopyWarning: \n",
      "A value is trying to be set on a copy of a slice from a DataFrame.\n",
      "Try using .loc[row_indexer,col_indexer] = value instead\n",
      "\n",
      "See the caveats in the documentation: https://pandas.pydata.org/pandas-docs/stable/user_guide/indexing.html#returning-a-view-versus-a-copy\n",
      "  df_singaporean_salary['end_salary_range'] = df_singaporean_salary['end_salary_range'].astype(float)*3.08\n"
     ]
    },
    {
     "data": {
      "text/html": [
       "<div>\n",
       "<style scoped>\n",
       "    .dataframe tbody tr th:only-of-type {\n",
       "        vertical-align: middle;\n",
       "    }\n",
       "\n",
       "    .dataframe tbody tr th {\n",
       "        vertical-align: top;\n",
       "    }\n",
       "\n",
       "    .dataframe thead th {\n",
       "        text-align: right;\n",
       "    }\n",
       "</style>\n",
       "<table border=\"1\" class=\"dataframe\">\n",
       "  <thead>\n",
       "    <tr style=\"text-align: right;\">\n",
       "      <th></th>\n",
       "      <th>job_id</th>\n",
       "      <th>job_title</th>\n",
       "      <th>salary_range</th>\n",
       "      <th>job_description</th>\n",
       "      <th>job_level</th>\n",
       "      <th>experience</th>\n",
       "      <th>job_type</th>\n",
       "      <th>qualifications</th>\n",
       "      <th>job_specialization</th>\n",
       "      <th>company_name</th>\n",
       "      <th>company_registration</th>\n",
       "      <th>company_size</th>\n",
       "      <th>company_industry</th>\n",
       "      <th>job_link</th>\n",
       "      <th>search_term</th>\n",
       "      <th>state</th>\n",
       "      <th>start_salary_range</th>\n",
       "      <th>end_salary_range</th>\n",
       "    </tr>\n",
       "  </thead>\n",
       "  <tbody>\n",
       "    <tr>\n",
       "      <th>0</th>\n",
       "      <td>4839088</td>\n",
       "      <td>big data lead (work in singapore) - 44565</td>\n",
       "      <td>SGD 7,000 - SGD 10,500</td>\n",
       "      <td>Job HighlightsExciting future with breakthroug...</td>\n",
       "      <td>Manager</td>\n",
       "      <td>7 years</td>\n",
       "      <td>Full-Time</td>\n",
       "      <td>Bachelor's Degree, Post Graduate Diploma, Prof...</td>\n",
       "      <td>Computer/Information Technology, IT-Software</td>\n",
       "      <td>Keysight Technologies Malaysia Sdn. Bhd.</td>\n",
       "      <td>463532-M</td>\n",
       "      <td>2001 - 5000 Employees</td>\n",
       "      <td>Electrical &amp; Electronics</td>\n",
       "      <td>/en/job/big-data-lead-work-in-singapore-44565-...</td>\n",
       "      <td>data scientist</td>\n",
       "      <td>negeri-sembilan</td>\n",
       "      <td>21560.0</td>\n",
       "      <td>32340.0</td>\n",
       "    </tr>\n",
       "    <tr>\n",
       "      <th>6595</th>\n",
       "      <td>9299289</td>\n",
       "      <td>senior commodity specialist (based in penang, ...</td>\n",
       "      <td>SGD 2,000 - SGD 3,000</td>\n",
       "      <td>Job DescriptionResponsibilities:Manages the ou...</td>\n",
       "      <td>Junior Executive</td>\n",
       "      <td>None</td>\n",
       "      <td>Full-Time</td>\n",
       "      <td>Bachelor's Degree, Post Graduate Diploma, Prof...</td>\n",
       "      <td>Manufacturing, Purchasing/Material Mgmt</td>\n",
       "      <td>ASM Front-End Manufacturing Singapore Pte Ltd</td>\n",
       "      <td>200310868G</td>\n",
       "      <td>201 - 500 Employees</td>\n",
       "      <td>Semiconductor/Wafer Fabrication</td>\n",
       "      <td>/en/job/senior-commodity-specialist-based-in-p...</td>\n",
       "      <td>data analyst</td>\n",
       "      <td>penang</td>\n",
       "      <td>6160.0</td>\n",
       "      <td>9240.0</td>\n",
       "    </tr>\n",
       "    <tr>\n",
       "      <th>6713</th>\n",
       "      <td>9299313</td>\n",
       "      <td>senior buyer (penang, malaysia)</td>\n",
       "      <td>SGD 2,000 - SGD 3,000</td>\n",
       "      <td>Job DescriptionResponsibilities:Responsible fo...</td>\n",
       "      <td>Junior Executive</td>\n",
       "      <td>None</td>\n",
       "      <td>Full-Time</td>\n",
       "      <td>Bachelor's Degree, Post Graduate Diploma, Prof...</td>\n",
       "      <td>Manufacturing, Purchasing/Material Mgmt</td>\n",
       "      <td>ASM Front-End Manufacturing Singapore Pte Ltd</td>\n",
       "      <td>200310868G</td>\n",
       "      <td>201 - 500 Employees</td>\n",
       "      <td>Semiconductor/Wafer Fabrication</td>\n",
       "      <td>/en/job/senior-buyer-penang-malaysia-9299313/o...</td>\n",
       "      <td>data analyst</td>\n",
       "      <td>penang</td>\n",
       "      <td>6160.0</td>\n",
       "      <td>9240.0</td>\n",
       "    </tr>\n",
       "  </tbody>\n",
       "</table>\n",
       "</div>"
      ],
      "text/plain": [
       "       job_id                                          job_title  \\\n",
       "0     4839088          big data lead (work in singapore) - 44565   \n",
       "6595  9299289  senior commodity specialist (based in penang, ...   \n",
       "6713  9299313                    senior buyer (penang, malaysia)   \n",
       "\n",
       "                salary_range  \\\n",
       "0     SGD 7,000 - SGD 10,500   \n",
       "6595   SGD 2,000 - SGD 3,000   \n",
       "6713   SGD 2,000 - SGD 3,000   \n",
       "\n",
       "                                        job_description         job_level  \\\n",
       "0     Job HighlightsExciting future with breakthroug...           Manager   \n",
       "6595  Job DescriptionResponsibilities:Manages the ou...  Junior Executive   \n",
       "6713  Job DescriptionResponsibilities:Responsible fo...  Junior Executive   \n",
       "\n",
       "     experience   job_type                                     qualifications  \\\n",
       "0       7 years  Full-Time  Bachelor's Degree, Post Graduate Diploma, Prof...   \n",
       "6595       None  Full-Time  Bachelor's Degree, Post Graduate Diploma, Prof...   \n",
       "6713       None  Full-Time  Bachelor's Degree, Post Graduate Diploma, Prof...   \n",
       "\n",
       "                                job_specialization  \\\n",
       "0     Computer/Information Technology, IT-Software   \n",
       "6595       Manufacturing, Purchasing/Material Mgmt   \n",
       "6713       Manufacturing, Purchasing/Material Mgmt   \n",
       "\n",
       "                                       company_name company_registration  \\\n",
       "0          Keysight Technologies Malaysia Sdn. Bhd.             463532-M   \n",
       "6595  ASM Front-End Manufacturing Singapore Pte Ltd           200310868G   \n",
       "6713  ASM Front-End Manufacturing Singapore Pte Ltd           200310868G   \n",
       "\n",
       "               company_size                 company_industry  \\\n",
       "0     2001 - 5000 Employees         Electrical & Electronics   \n",
       "6595    201 - 500 Employees  Semiconductor/Wafer Fabrication   \n",
       "6713    201 - 500 Employees  Semiconductor/Wafer Fabrication   \n",
       "\n",
       "                                               job_link     search_term  \\\n",
       "0     /en/job/big-data-lead-work-in-singapore-44565-...  data scientist   \n",
       "6595  /en/job/senior-commodity-specialist-based-in-p...    data analyst   \n",
       "6713  /en/job/senior-buyer-penang-malaysia-9299313/o...    data analyst   \n",
       "\n",
       "                state  start_salary_range  end_salary_range  \n",
       "0     negeri-sembilan             21560.0           32340.0  \n",
       "6595           penang              6160.0            9240.0  \n",
       "6713           penang              6160.0            9240.0  "
      ]
     },
     "execution_count": 224,
     "metadata": {},
     "output_type": "execute_result"
    }
   ],
   "source": [
    "#clean SGD\n",
    "df_singaporean_salary = df_data_careers.loc[~df_data_careers['salary_range'].isnull() & df_data_careers['salary_range'].str.contains('SGD'), :]\n",
    "extracted_salary_SGD = df_singaporean_salary['salary_range'].str.findall(\"(\\d+,\\d+)\")\n",
    "df_singaporean_salary.loc[:,'start_salary_range'] = extracted_salary_SGD.str[0]\n",
    "df_singaporean_salary.loc[:,'end_salary_range'] = extracted_salary_SGD.str[1]\n",
    "df_singaporean_salary['start_salary_range'] = df_singaporean_salary['start_salary_range'].str.replace(',','')\n",
    "df_singaporean_salary.loc[:,'end_salary_range'] = df_singaporean_salary.loc[:,'end_salary_range'].str.replace(',','')\n",
    "\n",
    "#conversion to MYR\n",
    "MYR = 3.08\n",
    "df_singaporean_salary['start_salary_range'] = df_singaporean_salary['start_salary_range'].astype(float)*3.08\n",
    "df_singaporean_salary['end_salary_range'] = df_singaporean_salary['end_salary_range'].astype(float)*3.08\n",
    "\n",
    "df_singaporean_salary"
   ]
  },
  {
   "cell_type": "code",
   "execution_count": 225,
   "metadata": {},
   "outputs": [
    {
     "name": "stderr",
     "output_type": "stream",
     "text": [
      "C:\\Users\\RSYeo\\AppData\\Local\\Temp\\ipykernel_17104\\3422634028.py:4: SettingWithCopyWarning: \n",
      "A value is trying to be set on a copy of a slice from a DataFrame.\n",
      "Try using .loc[row_indexer,col_indexer] = value instead\n",
      "\n",
      "See the caveats in the documentation: https://pandas.pydata.org/pandas-docs/stable/user_guide/indexing.html#returning-a-view-versus-a-copy\n",
      "  df_hongkong_salary.loc[:,'start_salary_range'] = extracted_salary_HKD.str[0]\n",
      "C:\\Users\\RSYeo\\AppData\\Local\\Temp\\ipykernel_17104\\3422634028.py:5: SettingWithCopyWarning: \n",
      "A value is trying to be set on a copy of a slice from a DataFrame.\n",
      "Try using .loc[row_indexer,col_indexer] = value instead\n",
      "\n",
      "See the caveats in the documentation: https://pandas.pydata.org/pandas-docs/stable/user_guide/indexing.html#returning-a-view-versus-a-copy\n",
      "  df_hongkong_salary.loc[:,'end_salary_range'] = extracted_salary_HKD.str[1]\n",
      "C:\\Users\\RSYeo\\AppData\\Local\\Temp\\ipykernel_17104\\3422634028.py:6: SettingWithCopyWarning: \n",
      "A value is trying to be set on a copy of a slice from a DataFrame.\n",
      "Try using .loc[row_indexer,col_indexer] = value instead\n",
      "\n",
      "See the caveats in the documentation: https://pandas.pydata.org/pandas-docs/stable/user_guide/indexing.html#returning-a-view-versus-a-copy\n",
      "  df_hongkong_salary['start_salary_range'] = df_hongkong_salary['start_salary_range'].str.replace(',','')\n",
      "C:\\Users\\RSYeo\\AppData\\Local\\Temp\\ipykernel_17104\\3422634028.py:7: SettingWithCopyWarning: \n",
      "A value is trying to be set on a copy of a slice from a DataFrame.\n",
      "Try using .loc[row_indexer,col_indexer] = value instead\n",
      "\n",
      "See the caveats in the documentation: https://pandas.pydata.org/pandas-docs/stable/user_guide/indexing.html#returning-a-view-versus-a-copy\n",
      "  df_hongkong_salary.loc[:,'end_salary_range'] = df_hongkong_salary.loc[:,'end_salary_range'].str.replace(',','')\n",
      "C:\\Users\\RSYeo\\AppData\\Local\\Temp\\ipykernel_17104\\3422634028.py:11: SettingWithCopyWarning: \n",
      "A value is trying to be set on a copy of a slice from a DataFrame.\n",
      "Try using .loc[row_indexer,col_indexer] = value instead\n",
      "\n",
      "See the caveats in the documentation: https://pandas.pydata.org/pandas-docs/stable/user_guide/indexing.html#returning-a-view-versus-a-copy\n",
      "  df_hongkong_salary['start_salary_range'] = df_hongkong_salary['start_salary_range'].astype(float)*MYR\n",
      "C:\\Users\\RSYeo\\AppData\\Local\\Temp\\ipykernel_17104\\3422634028.py:12: SettingWithCopyWarning: \n",
      "A value is trying to be set on a copy of a slice from a DataFrame.\n",
      "Try using .loc[row_indexer,col_indexer] = value instead\n",
      "\n",
      "See the caveats in the documentation: https://pandas.pydata.org/pandas-docs/stable/user_guide/indexing.html#returning-a-view-versus-a-copy\n",
      "  df_hongkong_salary['end_salary_range'] = df_hongkong_salary['end_salary_range'].astype(float)*MYR\n"
     ]
    },
    {
     "data": {
      "text/html": [
       "<div>\n",
       "<style scoped>\n",
       "    .dataframe tbody tr th:only-of-type {\n",
       "        vertical-align: middle;\n",
       "    }\n",
       "\n",
       "    .dataframe tbody tr th {\n",
       "        vertical-align: top;\n",
       "    }\n",
       "\n",
       "    .dataframe thead th {\n",
       "        text-align: right;\n",
       "    }\n",
       "</style>\n",
       "<table border=\"1\" class=\"dataframe\">\n",
       "  <thead>\n",
       "    <tr style=\"text-align: right;\">\n",
       "      <th></th>\n",
       "      <th>job_id</th>\n",
       "      <th>job_title</th>\n",
       "      <th>salary_range</th>\n",
       "      <th>job_description</th>\n",
       "      <th>job_level</th>\n",
       "      <th>experience</th>\n",
       "      <th>job_type</th>\n",
       "      <th>qualifications</th>\n",
       "      <th>job_specialization</th>\n",
       "      <th>company_name</th>\n",
       "      <th>company_registration</th>\n",
       "      <th>company_size</th>\n",
       "      <th>company_industry</th>\n",
       "      <th>job_link</th>\n",
       "      <th>search_term</th>\n",
       "      <th>state</th>\n",
       "      <th>start_salary_range</th>\n",
       "      <th>end_salary_range</th>\n",
       "    </tr>\n",
       "  </thead>\n",
       "  <tbody>\n",
       "    <tr>\n",
       "      <th>3908</th>\n",
       "      <td>4845280</td>\n",
       "      <td>system analyst / senior analyst programmer (ba...</td>\n",
       "      <td>HKD 25,000 - HKD 35,000</td>\n",
       "      <td>Job DescriptionAbout this roleRegional support...</td>\n",
       "      <td>Senior Executive</td>\n",
       "      <td>5 years</td>\n",
       "      <td>Full-Time</td>\n",
       "      <td>Not Specified</td>\n",
       "      <td>Computer/Information Technology, IT-Software</td>\n",
       "      <td>Nexperia Malaysia Sdn.Bhd.</td>\n",
       "      <td>244835-W</td>\n",
       "      <td>2001 - 5000 Employees</td>\n",
       "      <td>Semiconductor/Wafer Fabrication</td>\n",
       "      <td>/en/job/system-analyst-senior-analyst-programm...</td>\n",
       "      <td>data analyst</td>\n",
       "      <td>selangor</td>\n",
       "      <td>13500.0</td>\n",
       "      <td>18900.0</td>\n",
       "    </tr>\n",
       "  </tbody>\n",
       "</table>\n",
       "</div>"
      ],
      "text/plain": [
       "       job_id                                          job_title  \\\n",
       "3908  4845280  system analyst / senior analyst programmer (ba...   \n",
       "\n",
       "                 salary_range  \\\n",
       "3908  HKD 25,000 - HKD 35,000   \n",
       "\n",
       "                                        job_description         job_level  \\\n",
       "3908  Job DescriptionAbout this roleRegional support...  Senior Executive   \n",
       "\n",
       "     experience   job_type qualifications  \\\n",
       "3908    5 years  Full-Time  Not Specified   \n",
       "\n",
       "                                job_specialization  \\\n",
       "3908  Computer/Information Technology, IT-Software   \n",
       "\n",
       "                    company_name company_registration           company_size  \\\n",
       "3908  Nexperia Malaysia Sdn.Bhd.             244835-W  2001 - 5000 Employees   \n",
       "\n",
       "                     company_industry  \\\n",
       "3908  Semiconductor/Wafer Fabrication   \n",
       "\n",
       "                                               job_link   search_term  \\\n",
       "3908  /en/job/system-analyst-senior-analyst-programm...  data analyst   \n",
       "\n",
       "         state  start_salary_range  end_salary_range  \n",
       "3908  selangor             13500.0           18900.0  "
      ]
     },
     "execution_count": 225,
     "metadata": {},
     "output_type": "execute_result"
    }
   ],
   "source": [
    "#clean HKD\n",
    "df_hongkong_salary = df_data_careers.loc[~df_data_careers['salary_range'].isnull() & df_data_careers['salary_range'].str.contains('HKD'), :]\n",
    "extracted_salary_HKD = df_hongkong_salary['salary_range'].str.findall(\"(\\d+,\\d+)\")\n",
    "df_hongkong_salary.loc[:,'start_salary_range'] = extracted_salary_HKD.str[0]\n",
    "df_hongkong_salary.loc[:,'end_salary_range'] = extracted_salary_HKD.str[1]\n",
    "df_hongkong_salary['start_salary_range'] = df_hongkong_salary['start_salary_range'].str.replace(',','')\n",
    "df_hongkong_salary.loc[:,'end_salary_range'] = df_hongkong_salary.loc[:,'end_salary_range'].str.replace(',','')\n",
    "\n",
    "#conversion to MYR\n",
    "MYR = 0.54\n",
    "df_hongkong_salary['start_salary_range'] = df_hongkong_salary['start_salary_range'].astype(float)*MYR\n",
    "df_hongkong_salary['end_salary_range'] = df_hongkong_salary['end_salary_range'].astype(float)*MYR\n",
    "\n",
    "df_hongkong_salary"
   ]
  },
  {
   "cell_type": "code",
   "execution_count": 226,
   "metadata": {},
   "outputs": [],
   "source": [
    "df_data_careers['start_salary_range'] = np.nan\n",
    "df_data_careers['end_salary_range'] = np.nan"
   ]
  },
  {
   "cell_type": "code",
   "execution_count": 230,
   "metadata": {},
   "outputs": [],
   "source": [
    "def update_data(main_df:pd.DataFrame, new_df:pd.DataFrame, column_names:list):\n",
    "    for column_name in column_names:\n",
    "        main_df.loc[new_df.index, column_name] = new_df[column_name]\n",
    "    \n",
    "    return main_df"
   ]
  },
  {
   "cell_type": "code",
   "execution_count": 231,
   "metadata": {},
   "outputs": [],
   "source": [
    "new_data_dfs = [df_malaysian_salary, df_singaporean_salary, df_hongkong_salary]\n",
    "\n",
    "for df in new_data_dfs:\n",
    "    df_data_careers = update_data(df_data_careers, df, ['start_salary_range', 'end_salary_range'])\n"
   ]
  },
  {
   "cell_type": "code",
   "execution_count": 235,
   "metadata": {},
   "outputs": [],
   "source": [
    "df_data_careers.drop('salary_range', axis=1, inplace=True)"
   ]
  },
  {
   "cell_type": "code",
   "execution_count": null,
   "metadata": {},
   "outputs": [],
   "source": []
  }
 ],
 "metadata": {
  "interpreter": {
   "hash": "cadcdcb536bf306a94042e6d3e2806f549212ffab4cd86c3d91066de65a7cf2b"
  },
  "kernelspec": {
   "display_name": "Python 3.9.7 ('forwardSchool')",
   "language": "python",
   "name": "python3"
  },
  "language_info": {
   "codemirror_mode": {
    "name": "ipython",
    "version": 3
   },
   "file_extension": ".py",
   "mimetype": "text/x-python",
   "name": "python",
   "nbconvert_exporter": "python",
   "pygments_lexer": "ipython3",
   "version": "3.9.10"
  },
  "orig_nbformat": 4
 },
 "nbformat": 4,
 "nbformat_minor": 2
}
